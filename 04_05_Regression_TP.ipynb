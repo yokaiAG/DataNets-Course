{
 "cells": [
  {
   "cell_type": "markdown",
   "metadata": {},
   "source": [
    "# 04. / 05. TP Regression"
   ]
  },
  {
   "cell_type": "markdown",
   "metadata": {},
   "source": [
    "#### enseignant: Anastasios Giovanidis 2022 - 2023\n",
    "#### date: 11 Octobre 2022 and 18 Octobre 2022"
   ]
  },
  {
   "cell_type": "markdown",
   "metadata": {},
   "source": [
    "#### student name or binome:"
   ]
  },
  {
   "cell_type": "markdown",
   "metadata": {},
   "source": [
    "This is the TP related to regression. We will need to import the following libraries."
   ]
  },
  {
   "cell_type": "code",
   "execution_count": 1,
   "metadata": {},
   "outputs": [],
   "source": [
    "import matplotlib.pyplot as plt\n",
    "import numpy as np\n",
    "import pandas as pd\n",
    "import math\n",
    "import random"
   ]
  },
  {
   "cell_type": "markdown",
   "metadata": {},
   "source": [
    "We will work with linear models of the form \n",
    "\n",
    "$y = \\beta_0+\\beta_1 x + \\epsilon$. \n",
    "\n",
    "In the following, the random error $\\epsilon$ gets a Normal distribution $\\mathcal{N}(0,\\sigma^2)$, where $\\sigma$ is the standard deviation. It is independent of $x$ and every realisation is i.i.d. We remind that $Var(\\epsilon)=\\sigma^2$.\n",
    "\n",
    "As a means of example let us consider the linear model $y=b_0+b_1x+\\epsilon$, with $b_0=2$ and $b_1=3$. Also let the noise standard deviation be $\\sigma=30$. (Note that: at the end of the example, you can change these values to your own choice)\n",
    "\n",
    "$y(x)$ is what we measure, when the single feature takes value $x$. \n",
    "\n",
    "The sample size is $n$."
   ]
  },
  {
   "cell_type": "code",
   "execution_count": 2,
   "metadata": {},
   "outputs": [],
   "source": [
    "n = 20 # sample size\n",
    "b0 = 2 # real intercept (unobserved)\n",
    "b1 = np.array([3]) # real slope (unobserved)"
   ]
  },
  {
   "cell_type": "markdown",
   "metadata": {},
   "source": [
    "## Preparation: Generating \"synthetic\" data"
   ]
  },
  {
   "cell_type": "code",
   "execution_count": 3,
   "metadata": {},
   "outputs": [],
   "source": [
    "# For the Error Vector we need to define:\n",
    "mue, sigmae = 0, 30 # error mean and standard deviation\n",
    "# If you want to fix a 'random' vector and not have different vectors per call, then use:\n",
    "np.random.seed(199)\n",
    "Er = np.random.normal(mue, sigmae, n)"
   ]
  },
  {
   "cell_type": "code",
   "execution_count": 4,
   "metadata": {
    "scrolled": false
   },
   "outputs": [
    {
     "name": "stdout",
     "output_type": "stream",
     "text": [
      "[ 33.24214448  -9.66833454  68.66231565 -55.3634741  -46.02241369\n",
      "  32.69834474  36.28414203  -8.77906033 -28.89190806   6.07129635\n",
      "  48.70306245 -69.33409712  31.09989668  70.21805685  -6.69218164\n",
      " -19.60951679  24.44625946 -12.92376476  -0.37686216  39.06455214]\n"
     ]
    }
   ],
   "source": [
    "print(Er)"
   ]
  },
  {
   "cell_type": "markdown",
   "metadata": {},
   "source": [
    "We suppose that the feature input $x$ ranges within an interval $\\left[x_l,x_h\\right]$. The $n$ values of $x$ are chosen uniformly randomly within the interval as a means of simulation."
   ]
  },
  {
   "cell_type": "code",
   "execution_count": 5,
   "metadata": {},
   "outputs": [
    {
     "name": "stdout",
     "output_type": "stream",
     "text": [
      "[ 78.57500336 117.84471417  47.98856377 101.29831222  55.66108205\n",
      "  65.38116798  74.337341    39.82041465 117.71944956  31.32134616\n",
      " 112.80089673   5.39719021  50.41908488  99.59823395  69.68557585\n",
      "  13.90856407  13.01791564 107.00400554  53.31687507  64.69449614]\n"
     ]
    }
   ],
   "source": [
    "xl, xh = 0, 120\n",
    "np.random.seed(199)\n",
    "x = np.random.uniform(xl,xh,n)\n",
    "print(x)"
   ]
  },
  {
   "cell_type": "markdown",
   "metadata": {},
   "source": [
    "Having prepared the n-sized vectors Er, and x, we can now find the 'real' values of the response $y$."
   ]
  },
  {
   "cell_type": "code",
   "execution_count": 6,
   "metadata": {},
   "outputs": [
    {
     "name": "stdout",
     "output_type": "stream",
     "text": [
      "[270.96715455 345.86580798 214.62800697 250.53146256 122.96083245\n",
      " 230.84184868 261.29616502 112.6821836  326.26644061 102.03533484\n",
      " 389.10575263 -51.1425265  184.35715132 371.01275871 204.36454591\n",
      "  24.11617543  65.50000638 310.08825187 161.57376303 235.14804055]\n"
     ]
    }
   ],
   "source": [
    "y = b0+b1[0]*x+Er\n",
    "print(y)"
   ]
  },
  {
   "cell_type": "markdown",
   "metadata": {},
   "source": [
    "Let us plot the line $2+3*x$ as well as the generated points $y$ that include the error."
   ]
  },
  {
   "cell_type": "code",
   "execution_count": 7,
   "metadata": {},
   "outputs": [
    {
     "data": {
      "text/plain": [
       "[<matplotlib.lines.Line2D at 0x7fcdf73cf280>]"
      ]
     },
     "execution_count": 7,
     "metadata": {},
     "output_type": "execute_result"
    },
    {
     "data": {
      "image/png": "[encoded data removed]",
      "text/plain": [
       "<Figure size 432x288 with 1 Axes>"
      ]
     },
     "metadata": {
      "needs_background": "light"
     },
     "output_type": "display_data"
    }
   ],
   "source": [
    "plt.plot(x,y,'o',color='blue')\n",
    "plt.plot(x,b0+b1*x,color='orange')"
   ]
  },
  {
   "cell_type": "markdown",
   "metadata": {},
   "source": [
    "The Sample generator is written in what follows as a function, to be called at later stages. When the seed = seedit takes an integer value, the random vectors do not change on each call. By letting seed = () the random vectors $x,y,Er$ change on each call. The parameter size determines the size of vector $x$ i.e. the number of different features included (if $size>1$ then the model is multi-linear)."
   ]
  },
  {
   "cell_type": "code",
   "execution_count": 8,
   "metadata": {},
   "outputs": [],
   "source": [
    "def genSample(n,b0,b1,sigmae,xLow,xHigh,seedit=199,size=1):\n",
    "    if type(seedit)==int:\n",
    "        np.random.seed(seedit)\n",
    "        Er = np.random.normal(mue, sigmae, n)\n",
    "        x = []\n",
    "        for k in range(size):\n",
    "            np.random.seed(seedit+k)\n",
    "            x.append(np.random.uniform(xl,xh,n))\n",
    "    else:\n",
    "        np.random.seed()\n",
    "        Er = np.random.normal(mue, sigmae, n)\n",
    "        x = []\n",
    "        for k in range(size):\n",
    "            np.random.seed()\n",
    "            x.append(np.random.uniform(xl,xh,n))\n",
    "    y = b0+Er\n",
    "    for k in range(size):\n",
    "        y +=b1[k]*x[k]\n",
    "    #\n",
    "    # Output\n",
    "    if size==1:\n",
    "        return (x[0], y, Er)\n",
    "    else:\n",
    "        return (x, y, Er)"
   ]
  },
  {
   "cell_type": "code",
   "execution_count": 9,
   "metadata": {},
   "outputs": [
    {
     "name": "stdout",
     "output_type": "stream",
     "text": [
      "x= [ 78.57500336 117.84471417  47.98856377 101.29831222  55.66108205\n",
      "  65.38116798  74.337341    39.82041465 117.71944956  31.32134616\n",
      " 112.80089673   5.39719021  50.41908488  99.59823395  69.68557585\n",
      "  13.90856407  13.01791564 107.00400554  53.31687507  64.69449614]\n",
      "y= [270.96715455 345.86580798 214.62800697 250.53146256 122.96083245\n",
      " 230.84184868 261.29616502 112.6821836  326.26644061 102.03533484\n",
      " 389.10575263 -51.1425265  184.35715132 371.01275871 204.36454591\n",
      "  24.11617543  65.50000638 310.08825187 161.57376303 235.14804055]\n"
     ]
    }
   ],
   "source": [
    "n, b0, b1 = 20, 2, np.array([3]) \n",
    "(x,y,Er) = genSample(n,b0,b1,sigmae,xl,xh,seedit=199,size=1)\n",
    "print(\"x=\",x)\n",
    "print(\"y=\",y)"
   ]
  },
  {
   "cell_type": "markdown",
   "metadata": {},
   "source": [
    "One can also put the $x,Er,y$ vectors in a panda table."
   ]
  },
  {
   "cell_type": "code",
   "execution_count": 10,
   "metadata": {},
   "outputs": [
    {
     "data": {
      "text/html": [
       "<div>\n",
       "<style scoped>\n",
       "    .dataframe tbody tr th:only-of-type {\n",
       "        vertical-align: middle;\n",
       "    }\n",
       "\n",
       "    .dataframe tbody tr th {\n",
       "        vertical-align: top;\n",
       "    }\n",
       "\n",
       "    .dataframe thead th {\n",
       "        text-align: right;\n",
       "    }\n",
       "</style>\n",
       "<table border=\"1\" class=\"dataframe\">\n",
       "  <thead>\n",
       "    <tr style=\"text-align: right;\">\n",
       "      <th></th>\n",
       "      <th>x</th>\n",
       "      <th>y</th>\n",
       "    </tr>\n",
       "  </thead>\n",
       "  <tbody>\n",
       "    <tr>\n",
       "      <th>0</th>\n",
       "      <td>78.575003</td>\n",
       "      <td>270.967155</td>\n",
       "    </tr>\n",
       "    <tr>\n",
       "      <th>1</th>\n",
       "      <td>117.844714</td>\n",
       "      <td>345.865808</td>\n",
       "    </tr>\n",
       "    <tr>\n",
       "      <th>2</th>\n",
       "      <td>47.988564</td>\n",
       "      <td>214.628007</td>\n",
       "    </tr>\n",
       "    <tr>\n",
       "      <th>3</th>\n",
       "      <td>101.298312</td>\n",
       "      <td>250.531463</td>\n",
       "    </tr>\n",
       "    <tr>\n",
       "      <th>4</th>\n",
       "      <td>55.661082</td>\n",
       "      <td>122.960832</td>\n",
       "    </tr>\n",
       "    <tr>\n",
       "      <th>5</th>\n",
       "      <td>65.381168</td>\n",
       "      <td>230.841849</td>\n",
       "    </tr>\n",
       "    <tr>\n",
       "      <th>6</th>\n",
       "      <td>74.337341</td>\n",
       "      <td>261.296165</td>\n",
       "    </tr>\n",
       "    <tr>\n",
       "      <th>7</th>\n",
       "      <td>39.820415</td>\n",
       "      <td>112.682184</td>\n",
       "    </tr>\n",
       "    <tr>\n",
       "      <th>8</th>\n",
       "      <td>117.719450</td>\n",
       "      <td>326.266441</td>\n",
       "    </tr>\n",
       "    <tr>\n",
       "      <th>9</th>\n",
       "      <td>31.321346</td>\n",
       "      <td>102.035335</td>\n",
       "    </tr>\n",
       "    <tr>\n",
       "      <th>10</th>\n",
       "      <td>112.800897</td>\n",
       "      <td>389.105753</td>\n",
       "    </tr>\n",
       "    <tr>\n",
       "      <th>11</th>\n",
       "      <td>5.397190</td>\n",
       "      <td>-51.142527</td>\n",
       "    </tr>\n",
       "    <tr>\n",
       "      <th>12</th>\n",
       "      <td>50.419085</td>\n",
       "      <td>184.357151</td>\n",
       "    </tr>\n",
       "    <tr>\n",
       "      <th>13</th>\n",
       "      <td>99.598234</td>\n",
       "      <td>371.012759</td>\n",
       "    </tr>\n",
       "    <tr>\n",
       "      <th>14</th>\n",
       "      <td>69.685576</td>\n",
       "      <td>204.364546</td>\n",
       "    </tr>\n",
       "    <tr>\n",
       "      <th>15</th>\n",
       "      <td>13.908564</td>\n",
       "      <td>24.116175</td>\n",
       "    </tr>\n",
       "    <tr>\n",
       "      <th>16</th>\n",
       "      <td>13.017916</td>\n",
       "      <td>65.500006</td>\n",
       "    </tr>\n",
       "    <tr>\n",
       "      <th>17</th>\n",
       "      <td>107.004006</td>\n",
       "      <td>310.088252</td>\n",
       "    </tr>\n",
       "    <tr>\n",
       "      <th>18</th>\n",
       "      <td>53.316875</td>\n",
       "      <td>161.573763</td>\n",
       "    </tr>\n",
       "    <tr>\n",
       "      <th>19</th>\n",
       "      <td>64.694496</td>\n",
       "      <td>235.148041</td>\n",
       "    </tr>\n",
       "  </tbody>\n",
       "</table>\n",
       "</div>"
      ],
      "text/plain": [
       "             x           y\n",
       "0    78.575003  270.967155\n",
       "1   117.844714  345.865808\n",
       "2    47.988564  214.628007\n",
       "3   101.298312  250.531463\n",
       "4    55.661082  122.960832\n",
       "5    65.381168  230.841849\n",
       "6    74.337341  261.296165\n",
       "7    39.820415  112.682184\n",
       "8   117.719450  326.266441\n",
       "9    31.321346  102.035335\n",
       "10  112.800897  389.105753\n",
       "11    5.397190  -51.142527\n",
       "12   50.419085  184.357151\n",
       "13   99.598234  371.012759\n",
       "14   69.685576  204.364546\n",
       "15   13.908564   24.116175\n",
       "16   13.017916   65.500006\n",
       "17  107.004006  310.088252\n",
       "18   53.316875  161.573763\n",
       "19   64.694496  235.148041"
      ]
     },
     "execution_count": 10,
     "metadata": {},
     "output_type": "execute_result"
    }
   ],
   "source": [
    "lucy = {'x': x, 'y': y}\n",
    "df_slr = pd.DataFrame(data=lucy)\n",
    "df_slr"
   ]
  },
  {
   "cell_type": "markdown",
   "metadata": {},
   "source": [
    "## Exercise 1"
   ]
  },
  {
   "cell_type": "markdown",
   "metadata": {},
   "source": [
    "### **Part A.** \n",
    "With the above synthetic data: \n",
    "* a) Compute the sample means $\\bar{x}$, $\\bar{y}$, and the sample variance $s_{xx}$ and covariance $s_{xy}$ .\n",
    "\n",
    "* b) Find the coefficient estimates for the least-squares line $\\hat{y}=\\hat{\\beta}_0+\\hat{\\beta}_1x$, using the formulas presented in the course. Compare these with the unobserved real values of $(\\beta_0,\\beta_1)=(2,3)$. What do you observe?\n",
    "\n",
    "* c) Plot the regression line, least-squares line and the data samples.\n",
    "\n",
    "You can work with either numpy or pandas.\n",
    "\n",
    "You can compare your results with the ones from the **Simple Linear Regression using scikit-learn** that follows."
   ]
  },
  {
   "cell_type": "markdown",
   "metadata": {},
   "source": [
    "**Note** For numpy commands:\n",
    "\n",
    "- Command x.var() in numpy has by default 'ddof=0', so that the denominator is 'n' (Population Statistic). To change this to sample variance, one needs to set the parameter 'ddof=1', i.e. Sxx = x.var(ddof=1).\n",
    "\n",
    "- Command cov(x,y) in numpy has by default 'ddof=1', so that the denominator is 'n-1' (Sample Statistic). To change this to population covariance one needs to set the parameter 'ddof=0', i.e. Sxy = np.cov(x,y,ddof=0)."
   ]
  },
  {
   "cell_type": "markdown",
   "metadata": {},
   "source": [
    "**Answer 1.A** "
   ]
  },
  {
   "cell_type": "code",
   "execution_count": null,
   "metadata": {},
   "outputs": [],
   "source": []
  },
  {
   "cell_type": "code",
   "execution_count": 15,
   "metadata": {},
   "outputs": [
    {
     "data": {
      "text/plain": [
       "<matplotlib.legend.Legend at 0x11f43ff28>"
      ]
     },
     "execution_count": 15,
     "metadata": {},
     "output_type": "execute_result"
    },
    {
     "data": {
      "image/png": "[encoded data removed]",
      "text/plain": [
       "<Figure size 432x288 with 1 Axes>"
      ]
     },
     "metadata": {},
     "output_type": "display_data"
    }
   ],
   "source": [
    "#Answer 1.c\n",
    "plt.plot(x,y,'o',color='blue',label='data')\n",
    "plt.plot(x,b0+b1[0]*x,'--',color='orange',label='regression line (unobsrvd)')\n",
    "# UNCOMMENT THE LINE BELOW!\n",
    "#plt.plot(x,b0_est+b1_est*x,color='green',label='least-squares')\n",
    "plt.legend(loc=2)"
   ]
  },
  {
   "cell_type": "markdown",
   "metadata": {},
   "source": [
    "### **Part B. (Accuracy)** \n",
    "You can now evaluate the accuracy of your prediction, using the following metrics:\n",
    "\n",
    "* d) Evaluate the Residual Standard Error (RSE) and the Mean Squared Error (MSE). \n",
    "What do they tell about the accuracy of the model?\n",
    "\n",
    "**Note:** The Mean Squared Error (MSE) can be calculated as $MSE := \\frac{1}{n}RSS = \\frac{n-2}{n}RSE^2$.\n",
    "\n",
    "* e) Evaluate the $R^2$-statistic. \n",
    "What does it tell about the accuracy of the model?\n",
    "* f) Determine the $95\\%$ confidence intervals for the coefficients. \n",
    "Do the real coefficients $\\beta_0$ and $\\beta_1$ fall in the calculated intervals?\n",
    "\n",
    "(again) You can compare your results with the ones from the **Simple Linear Regression using scikit-learn** that follows."
   ]
  },
  {
   "cell_type": "markdown",
   "metadata": {},
   "source": [
    "**Answer 1.B** "
   ]
  },
  {
   "cell_type": "code",
   "execution_count": 15,
   "metadata": {},
   "outputs": [],
   "source": []
  },
  {
   "cell_type": "markdown",
   "metadata": {},
   "source": [
    "### Simple Linear Regression using scikit-learn"
   ]
  },
  {
   "cell_type": "markdown",
   "metadata": {},
   "source": [
    "We need to import appropriate libraries from sklearn."
   ]
  },
  {
   "cell_type": "code",
   "execution_count": 11,
   "metadata": {},
   "outputs": [],
   "source": [
    "from sklearn import datasets, linear_model\n",
    "from sklearn.metrics import mean_squared_error, r2_score"
   ]
  },
  {
   "cell_type": "code",
   "execution_count": 12,
   "metadata": {},
   "outputs": [],
   "source": [
    "x1 = x\n",
    "#print(x)\n",
    "# if x only 1 dimension then we need to add axis\n",
    "if len(np.shape(x1))==1:\n",
    "    x_sc = x1[:,np.newaxis]\n",
    "#print(x_sc)"
   ]
  },
  {
   "cell_type": "code",
   "execution_count": 13,
   "metadata": {},
   "outputs": [],
   "source": [
    "# Create linear regression object\n",
    "regr = linear_model.LinearRegression()\n",
    "# Train the model using the training sets\n",
    "regr.fit(x_sc,y)\n",
    "# Make predictions using the same x set\n",
    "y_pred = regr.predict(x_sc)"
   ]
  },
  {
   "cell_type": "code",
   "execution_count": 14,
   "metadata": {},
   "outputs": [
    {
     "name": "stdout",
     "output_type": "stream",
     "text": [
      "Slope: 3.15\n",
      "Intercept: -1.05\n"
     ]
    }
   ],
   "source": [
    "# The coefficient $\\beta_1$\n",
    "print('Slope: %.2f' % regr.coef_)\n",
    "# The intercept $\\beta_0$\n",
    "print('Intercept: %.2f' % regr.intercept_)"
   ]
  },
  {
   "cell_type": "code",
   "execution_count": 15,
   "metadata": {},
   "outputs": [
    {
     "name": "stdout",
     "output_type": "stream",
     "text": [
      "Mean_squared_error: 1441.63\n",
      "R2_score: 0.89\n"
     ]
    }
   ],
   "source": [
    "# The mean squared error\n",
    "print(\"Mean_squared_error: %.2f\"\n",
    "      % mean_squared_error(y, y_pred))\n",
    "# Explained variance score: 1 is perfect prediction\n",
    "r2n = r2_score(y, y_pred)\n",
    "print('R2_score: %.2f' % r2n)"
   ]
  },
  {
   "cell_type": "code",
   "execution_count": 16,
   "metadata": {},
   "outputs": [
    {
     "data": {
      "image/png": "[encoded data removed]",
      "text/plain": [
       "<Figure size 432x288 with 1 Axes>"
      ]
     },
     "metadata": {
      "needs_background": "light"
     },
     "output_type": "display_data"
    }
   ],
   "source": [
    "# Plot outputs\n",
    "f = plt.figure()\n",
    "plt.scatter(x, y,  color='blue',label='data')\n",
    "plt.plot(x, b0+b1[0]*x,'--', color='orange', linewidth=1, label='regression line (unobsrvd)')\n",
    "plt.plot(x, y_pred, color='green', linewidth=1, label='least-squares')\n",
    "\n",
    "plt.legend(loc=2)\n",
    "\n",
    "plt.show()\n",
    "# Export as pdf\n",
    "#f.savefig(\"LinearRegression.eps\", format='eps',bbox_inches='tight')"
   ]
  },
  {
   "cell_type": "markdown",
   "metadata": {},
   "source": [
    "### Simple Linear Regression using statsmodels"
   ]
  },
  {
   "cell_type": "code",
   "execution_count": 17,
   "metadata": {},
   "outputs": [],
   "source": [
    "import statsmodels.api as sm"
   ]
  },
  {
   "cell_type": "markdown",
   "metadata": {},
   "source": [
    "**Note:** Statsmodels does not has as default the calculation of a constant bias.\n",
    "Uses OLS = Ordinary Least Squares"
   ]
  },
  {
   "cell_type": "code",
   "execution_count": 18,
   "metadata": {},
   "outputs": [
    {
     "data": {
      "text/html": [
       "<table class=\"simpletable\">\n",
       "<caption>OLS Regression Results</caption>\n",
       "<tr>\n",
       "  <th>Dep. Variable:</th>            <td>y</td>        <th>  R-squared:         </th> <td>   0.891</td>\n",
       "</tr>\n",
       "<tr>\n",
       "  <th>Model:</th>                   <td>OLS</td>       <th>  Adj. R-squared:    </th> <td>   0.885</td>\n",
       "</tr>\n",
       "<tr>\n",
       "  <th>Method:</th>             <td>Least Squares</td>  <th>  F-statistic:       </th> <td>   146.9</td>\n",
       "</tr>\n",
       "<tr>\n",
       "  <th>Date:</th>             <td>Mon, 10 Oct 2022</td> <th>  Prob (F-statistic):</th> <td>4.29e-10</td>\n",
       "</tr>\n",
       "<tr>\n",
       "  <th>Time:</th>                 <td>15:35:49</td>     <th>  Log-Likelihood:    </th> <td> -101.11</td>\n",
       "</tr>\n",
       "<tr>\n",
       "  <th>No. Observations:</th>      <td>    20</td>      <th>  AIC:               </th> <td>   206.2</td>\n",
       "</tr>\n",
       "<tr>\n",
       "  <th>Df Residuals:</th>          <td>    18</td>      <th>  BIC:               </th> <td>   208.2</td>\n",
       "</tr>\n",
       "<tr>\n",
       "  <th>Df Model:</th>              <td>     1</td>      <th>                     </th>     <td> </td>   \n",
       "</tr>\n",
       "<tr>\n",
       "  <th>Covariance Type:</th>      <td>nonrobust</td>    <th>                     </th>     <td> </td>   \n",
       "</tr>\n",
       "</table>\n",
       "<table class=\"simpletable\">\n",
       "<tr>\n",
       "    <td></td>       <th>coef</th>     <th>std err</th>      <th>t</th>      <th>P>|t|</th>  <th>[0.025</th>    <th>0.975]</th>  \n",
       "</tr>\n",
       "<tr>\n",
       "  <th>const</th> <td>   -1.0524</td> <td>   19.328</td> <td>   -0.054</td> <td> 0.957</td> <td>  -41.658</td> <td>   39.553</td>\n",
       "</tr>\n",
       "<tr>\n",
       "  <th>x</th>     <td>    3.1469</td> <td>    0.260</td> <td>   12.122</td> <td> 0.000</td> <td>    2.602</td> <td>    3.692</td>\n",
       "</tr>\n",
       "</table>\n",
       "<table class=\"simpletable\">\n",
       "<tr>\n",
       "  <th>Omnibus:</th>       <td> 1.073</td> <th>  Durbin-Watson:     </th> <td>   2.484</td>\n",
       "</tr>\n",
       "<tr>\n",
       "  <th>Prob(Omnibus):</th> <td> 0.585</td> <th>  Jarque-Bera (JB):  </th> <td>   0.845</td>\n",
       "</tr>\n",
       "<tr>\n",
       "  <th>Skew:</th>          <td>-0.199</td> <th>  Prob(JB):          </th> <td>   0.656</td>\n",
       "</tr>\n",
       "<tr>\n",
       "  <th>Kurtosis:</th>      <td> 2.075</td> <th>  Cond. No.          </th> <td>    161.</td>\n",
       "</tr>\n",
       "</table><br/><br/>Notes:<br/>[1] Standard Errors assume that the covariance matrix of the errors is correctly specified."
      ],
      "text/plain": [
       "<class 'statsmodels.iolib.summary.Summary'>\n",
       "\"\"\"\n",
       "                            OLS Regression Results                            \n",
       "==============================================================================\n",
       "Dep. Variable:                      y   R-squared:                       0.891\n",
       "Model:                            OLS   Adj. R-squared:                  0.885\n",
       "Method:                 Least Squares   F-statistic:                     146.9\n",
       "Date:                Mon, 10 Oct 2022   Prob (F-statistic):           4.29e-10\n",
       "Time:                        15:35:49   Log-Likelihood:                -101.11\n",
       "No. Observations:                  20   AIC:                             206.2\n",
       "Df Residuals:                      18   BIC:                             208.2\n",
       "Df Model:                           1                                         \n",
       "Covariance Type:            nonrobust                                         \n",
       "==============================================================================\n",
       "                 coef    std err          t      P>|t|      [0.025      0.975]\n",
       "------------------------------------------------------------------------------\n",
       "const         -1.0524     19.328     -0.054      0.957     -41.658      39.553\n",
       "x              3.1469      0.260     12.122      0.000       2.602       3.692\n",
       "==============================================================================\n",
       "Omnibus:                        1.073   Durbin-Watson:                   2.484\n",
       "Prob(Omnibus):                  0.585   Jarque-Bera (JB):                0.845\n",
       "Skew:                          -0.199   Prob(JB):                        0.656\n",
       "Kurtosis:                       2.075   Cond. No.                         161.\n",
       "==============================================================================\n",
       "\n",
       "Notes:\n",
       "[1] Standard Errors assume that the covariance matrix of the errors is correctly specified.\n",
       "\"\"\""
      ]
     },
     "execution_count": 18,
     "metadata": {},
     "output_type": "execute_result"
    }
   ],
   "source": [
    "# using pandas\n",
    "X = df_slr[\"x\"]\n",
    "y = df_slr[\"y\"]\n",
    "\n",
    "X = sm.add_constant(X) ## let's add an intercept (beta_0) to our model\n",
    "\n",
    "# Note the difference in argument order\n",
    "model = sm.OLS(y, X).fit()\n",
    "y_pred_OLS = model.predict(X) # make the predictions using SAME train data\n",
    "\n",
    "# Print out the statistics\n",
    "model.summary()"
   ]
  },
  {
   "cell_type": "markdown",
   "metadata": {},
   "source": [
    "**Note:** We observe the same estimates for intercept $\\hat{\\beta}_0$ named 'const coef', slope $\\hat{\\beta}_1$ named 'x coef', $R^2$-statistic named 'R-squared'."
   ]
  },
  {
   "cell_type": "markdown",
   "metadata": {},
   "source": [
    "## Exercise 2"
   ]
  },
  {
   "cell_type": "markdown",
   "metadata": {},
   "source": [
    "The following Dataset related to advertisement is given in pandas and numpy format:\n",
    "\n",
    "**Download the Advertising.csv dataset from the link:**\n",
    "\n",
    "https://www.statlearning.com/resources-first-edition"
   ]
  },
  {
   "cell_type": "code",
   "execution_count": 25,
   "metadata": {},
   "outputs": [],
   "source": [
    "directory = #YOUR DIRECTORY HERE\n",
    "prefix = \"Advertising.csv\"\n",
    "filename1 = directory+prefix\n",
    "dataAd = np.loadtxt(filename1, delimiter=\",\",skiprows=1,usecols=[1,2,3,4])"
   ]
  },
  {
   "cell_type": "code",
   "execution_count": 26,
   "metadata": {},
   "outputs": [],
   "source": [
    "# pandas\n",
    "pdAd = pd.DataFrame(dataAd, columns=[\"TV\",\"radio\",\"newspaper\",\"sales\"])"
   ]
  },
  {
   "cell_type": "code",
   "execution_count": 59,
   "metadata": {},
   "outputs": [],
   "source": [
    "# numpy\n",
    "TV = pdAd.iloc[:,0].values\n",
    "radio = pdAd.iloc[:,1].values\n",
    "news = pdAd.iloc[:,2].values\n",
    "sales = pdAd.iloc[:,3].values"
   ]
  },
  {
   "cell_type": "markdown",
   "metadata": {},
   "source": [
    "i) Perform simple linear regression between all pairs x-y, where y=sales. For this you need to use (a) scikit-learn tools, and (b) statsmodels. Compare the results and plot the regression lines and data points. Especially, check how much is the $R^2$ measure per feature, to understand how much of the output $y$ is explained per feature.\n",
    "\n",
    "ii) Compare the values of the slopes from the 3 simple linear regressions, with the slopes from a multi-linear regression that includes all 3 features. Find the $R^2$ from the multi-dimensional model, and compare it with the above values. What do you observe?"
   ]
  },
  {
   "cell_type": "markdown",
   "metadata": {},
   "source": [
    "**Answer**"
   ]
  },
  {
   "cell_type": "code",
   "execution_count": null,
   "metadata": {},
   "outputs": [],
   "source": []
  },
  {
   "cell_type": "markdown",
   "metadata": {},
   "source": [
    "## Exercise 3 (Sample size & Error Variance)"
   ]
  },
  {
   "cell_type": "markdown",
   "metadata": {},
   "source": [
    "In this example we will study the influence of sample size $n$ and the influence of error variance on the quality of the regression.\n",
    "\n",
    "i) If the initial value for the sample size was $n$, choose $n_{new} = 2n$, so that the new sample includes the $n$ initial samples and $n$ new ones. Set $n=20$ as before. What do you observe about the quality of the prediction? ($R^2$-statistic)\n",
    "\n",
    "ii) What happens when the Error standard deviation is doubled? tripled?"
   ]
  },
  {
   "cell_type": "markdown",
   "metadata": {},
   "source": [
    "You can use the given function for synthetic data generator."
   ]
  },
  {
   "cell_type": "markdown",
   "metadata": {},
   "source": [
    "**Note:** Normally, for small n_plus we need to average out many random realisations to see the improvement."
   ]
  },
  {
   "cell_type": "markdown",
   "metadata": {},
   "source": [
    "**Answer** "
   ]
  },
  {
   "cell_type": "code",
   "execution_count": null,
   "metadata": {},
   "outputs": [],
   "source": []
  },
  {
   "cell_type": "markdown",
   "metadata": {},
   "source": [
    "## Exercise 4 (Unbiased Estimators)"
   ]
  },
  {
   "cell_type": "markdown",
   "metadata": {},
   "source": [
    "Use $L=15$ different samples of size $n=20$, with error $sigmae = 50$. Repeat the regression process and plot all least-squares curves, on the same plot. What do you observe? (for more emphasis, choose larger $sigmae$, e.g. double or triple). \n",
    "\n",
    "Take care to save the coefficients of each iteration for further use.\n",
    "\n",
    "With this, average over the $L$ values of each coefficient and draw the average curve. Compare this curve with the orginal regression line $\\beta_0+\\beta_1x$. What can you see? If you increase $L$ what happens to the average curve?"
   ]
  },
  {
   "cell_type": "markdown",
   "metadata": {},
   "source": [
    "**Answer:** "
   ]
  },
  {
   "cell_type": "code",
   "execution_count": null,
   "metadata": {},
   "outputs": [],
   "source": []
  },
  {
   "cell_type": "markdown",
   "metadata": {},
   "source": [
    "## Exercise 5 (Multiple Linear Regression)"
   ]
  },
  {
   "cell_type": "markdown",
   "metadata": {},
   "source": [
    "We will now work on problems of multi-linear regression. The regression plane (>2 dimensions) is given by the following expression, for $k=4$ features:\n",
    "\n",
    "$y = \\beta_0 + \\beta_1x_1 + \\beta_2x_2 + \\beta_3x_3 + \\beta_4x_4 + \\epsilon$.\n",
    "\n",
    "First create synthetic data for $(x_1,x_2,x_3,y,Er)$. Let $x_4=np.ones(n)+Er$, hence a variable that does not influence $y$.\n",
    "\n",
    "* (a) For the above multi-regression model, estimate the unknown coefficients $(\\beta_0,...,\\beta_4)$. Determine the F-statistic, $R^2$ and the p-values for the four features.\n",
    "\n",
    "* (b) Use a multi-regression model only for $(x_2,x_4)$. Estimate the coefficients, and determine the F-statistic, $R^2$ and the p-values for the two features. How does $p-$ and $F-$ compare with (a)? What does this imply?\n",
    "\n",
    "* (c) Use $4$ single-regression models, one for each variable $x_i$. How do the estimated slopes $\\beta_1$, $\\ldots$, $\\beta_4$ compare with the estimated slopes you get using multi-regression in (a)?\n",
    "\n",
    "Compare the answers for cases (a), (b), (c). What do you observe? Explain.\n",
    "\n",
    "\n",
    "**Note 1** Use scikit-learn and create a linear regression object.\n",
    "\n",
    "**Note 2** For the p-values and the F-statistic, you can use the scikit-learn command\n",
    "sklearn.feature_selection.f_regression\n",
    "\n",
    "https://scikit-learn.org/stable/modules/generated/sklearn.feature_selection.f_regression.html"
   ]
  },
  {
   "cell_type": "markdown",
   "metadata": {},
   "source": [
    "### Synthetic data creation"
   ]
  },
  {
   "cell_type": "code",
   "execution_count": 19,
   "metadata": {},
   "outputs": [],
   "source": [
    "n = 100 # sample size\n",
    "b0 = 2 # real intercept (unobserved)\n",
    "b1 = np.array([3, 7, 20]) # real slope (unobserved)\n",
    "xl, xh = 0, 120\n",
    "sigmae = 30 # error mean and standard deviation"
   ]
  },
  {
   "cell_type": "code",
   "execution_count": 20,
   "metadata": {},
   "outputs": [],
   "source": [
    "(xM,yM,ErM) = genSample(n,b0,b1,sigmae,xl,xh,seedit=199,size=len(b1))\n",
    "x_extra = 1+ErM\n",
    "xM.append(x_extra)\n",
    "yM += xM[-1]"
   ]
  },
  {
   "cell_type": "markdown",
   "metadata": {},
   "source": [
    "Data Visualisation"
   ]
  },
  {
   "cell_type": "code",
   "execution_count": 21,
   "metadata": {},
   "outputs": [],
   "source": [
    "dataM = {'x1': xM[0], 'x2' : xM[1],'x3' : xM[2] ,'x4': xM[3], 'error': ErM, 'y_mult': yM}\n",
    "df_slrM = pd.DataFrame(data=dataM)\n",
    "#df_slrM"
   ]
  },
  {
   "cell_type": "markdown",
   "metadata": {},
   "source": [
    "**Answer**\n",
    "\n",
    "(Here I will just show the question (a) using statsmodels, you need to do it with scikit-learn.)"
   ]
  },
  {
   "cell_type": "code",
   "execution_count": 22,
   "metadata": {},
   "outputs": [
    {
     "data": {
      "text/html": [
       "<table class=\"simpletable\">\n",
       "<caption>OLS Regression Results</caption>\n",
       "<tr>\n",
       "  <th>Dep. Variable:</th>         <td>y_mult</td>      <th>  R-squared:         </th> <td>   1.000</td> \n",
       "</tr>\n",
       "<tr>\n",
       "  <th>Model:</th>                   <td>OLS</td>       <th>  Adj. R-squared:    </th> <td>   1.000</td> \n",
       "</tr>\n",
       "<tr>\n",
       "  <th>Method:</th>             <td>Least Squares</td>  <th>  F-statistic:       </th> <td>4.563e+31</td>\n",
       "</tr>\n",
       "<tr>\n",
       "  <th>Date:</th>             <td>Wed, 13 Oct 2021</td> <th>  Prob (F-statistic):</th>  <td>  0.00</td>  \n",
       "</tr>\n",
       "<tr>\n",
       "  <th>Time:</th>                 <td>12:19:59</td>     <th>  Log-Likelihood:    </th> <td>  2680.5</td> \n",
       "</tr>\n",
       "<tr>\n",
       "  <th>No. Observations:</th>      <td>   100</td>      <th>  AIC:               </th> <td>  -5351.</td> \n",
       "</tr>\n",
       "<tr>\n",
       "  <th>Df Residuals:</th>          <td>    95</td>      <th>  BIC:               </th> <td>  -5338.</td> \n",
       "</tr>\n",
       "<tr>\n",
       "  <th>Df Model:</th>              <td>     4</td>      <th>                     </th>     <td> </td>    \n",
       "</tr>\n",
       "<tr>\n",
       "  <th>Covariance Type:</th>      <td>nonrobust</td>    <th>                     </th>     <td> </td>    \n",
       "</tr>\n",
       "</table>\n",
       "<table class=\"simpletable\">\n",
       "<tr>\n",
       "    <td></td>       <th>coef</th>     <th>std err</th>      <th>t</th>      <th>P>|t|</th>  <th>[0.025</th>    <th>0.975]</th>  \n",
       "</tr>\n",
       "<tr>\n",
       "  <th>const</th> <td>    1.0000</td> <td> 1.78e-13</td> <td> 5.63e+12</td> <td> 0.000</td> <td>    1.000</td> <td>    1.000</td>\n",
       "</tr>\n",
       "<tr>\n",
       "  <th>x1</th>    <td>    3.0000</td> <td> 1.65e-15</td> <td> 1.82e+15</td> <td> 0.000</td> <td>    3.000</td> <td>    3.000</td>\n",
       "</tr>\n",
       "<tr>\n",
       "  <th>x2</th>    <td>    7.0000</td> <td> 1.57e-15</td> <td> 4.47e+15</td> <td> 0.000</td> <td>    7.000</td> <td>    7.000</td>\n",
       "</tr>\n",
       "<tr>\n",
       "  <th>x3</th>    <td>   20.0000</td> <td> 1.61e-15</td> <td> 1.24e+16</td> <td> 0.000</td> <td>   20.000</td> <td>   20.000</td>\n",
       "</tr>\n",
       "<tr>\n",
       "  <th>x4</th>    <td>    2.0000</td> <td> 1.91e-15</td> <td> 1.05e+15</td> <td> 0.000</td> <td>    2.000</td> <td>    2.000</td>\n",
       "</tr>\n",
       "</table>\n",
       "<table class=\"simpletable\">\n",
       "<tr>\n",
       "  <th>Omnibus:</th>       <td> 5.179</td> <th>  Durbin-Watson:     </th> <td>   0.472</td>\n",
       "</tr>\n",
       "<tr>\n",
       "  <th>Prob(Omnibus):</th> <td> 0.075</td> <th>  Jarque-Bera (JB):  </th> <td>   2.835</td>\n",
       "</tr>\n",
       "<tr>\n",
       "  <th>Skew:</th>          <td> 0.172</td> <th>  Prob(JB):          </th> <td>   0.242</td>\n",
       "</tr>\n",
       "<tr>\n",
       "  <th>Kurtosis:</th>      <td> 2.250</td> <th>  Cond. No.          </th> <td>    350.</td>\n",
       "</tr>\n",
       "</table><br/><br/>Notes:<br/>[1] Standard Errors assume that the covariance matrix of the errors is correctly specified."
      ],
      "text/plain": [
       "<class 'statsmodels.iolib.summary.Summary'>\n",
       "\"\"\"\n",
       "                            OLS Regression Results                            \n",
       "==============================================================================\n",
       "Dep. Variable:                 y_mult   R-squared:                       1.000\n",
       "Model:                            OLS   Adj. R-squared:                  1.000\n",
       "Method:                 Least Squares   F-statistic:                 4.563e+31\n",
       "Date:                Wed, 13 Oct 2021   Prob (F-statistic):               0.00\n",
       "Time:                        12:19:59   Log-Likelihood:                 2680.5\n",
       "No. Observations:                 100   AIC:                            -5351.\n",
       "Df Residuals:                      95   BIC:                            -5338.\n",
       "Df Model:                           4                                         \n",
       "Covariance Type:            nonrobust                                         \n",
       "==============================================================================\n",
       "                 coef    std err          t      P>|t|      [0.025      0.975]\n",
       "------------------------------------------------------------------------------\n",
       "const          1.0000   1.78e-13   5.63e+12      0.000       1.000       1.000\n",
       "x1             3.0000   1.65e-15   1.82e+15      0.000       3.000       3.000\n",
       "x2             7.0000   1.57e-15   4.47e+15      0.000       7.000       7.000\n",
       "x3            20.0000   1.61e-15   1.24e+16      0.000      20.000      20.000\n",
       "x4             2.0000   1.91e-15   1.05e+15      0.000       2.000       2.000\n",
       "==============================================================================\n",
       "Omnibus:                        5.179   Durbin-Watson:                   0.472\n",
       "Prob(Omnibus):                  0.075   Jarque-Bera (JB):                2.835\n",
       "Skew:                           0.172   Prob(JB):                        0.242\n",
       "Kurtosis:                       2.250   Cond. No.                         350.\n",
       "==============================================================================\n",
       "\n",
       "Notes:\n",
       "[1] Standard Errors assume that the covariance matrix of the errors is correctly specified.\n",
       "\"\"\""
      ]
     },
     "execution_count": 22,
     "metadata": {},
     "output_type": "execute_result"
    }
   ],
   "source": [
    "# using pandas\n",
    "Xm = df_slrM[[\"x1\", \"x2\", \"x3\", \"x4\"]]\n",
    "Ym = df_slrM[\"y_mult\"]\n",
    "Xm = sm.add_constant(Xm) ## let's add an intercept (beta_0) to our model\n",
    "\n",
    "# Note the difference in argument order\n",
    "model = sm.OLS(Ym, Xm).fit()\n",
    "y_pred_OLS = model.predict(Xm) # make the predictions using SAME train data\n",
    "\n",
    "# Print out the statistics\n",
    "model.summary()"
   ]
  },
  {
   "cell_type": "markdown",
   "metadata": {},
   "source": [
    "Do the same using scikit-learn."
   ]
  },
  {
   "cell_type": "code",
   "execution_count": null,
   "metadata": {},
   "outputs": [],
   "source": []
  },
  {
   "cell_type": "markdown",
   "metadata": {},
   "source": [
    "### The END."
   ]
  }
 ],
 "metadata": {
  "kernelspec": {
   "display_name": "Python 3 (ipykernel)",
   "language": "python",
   "name": "python3"
  },
  "language_info": {
   "codemirror_mode": {
    "name": "ipython",
    "version": 3
   },
   "file_extension": ".py",
   "mimetype": "text/x-python",
   "name": "python",
   "nbconvert_exporter": "python",
   "pygments_lexer": "ipython3",
   "version": "3.9.12"
  }
 },
 "nbformat": 4,
 "nbformat_minor": 2
}
