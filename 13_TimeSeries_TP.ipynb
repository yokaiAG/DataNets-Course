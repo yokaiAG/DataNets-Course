{
 "cells": [
  {
   "cell_type": "markdown",
   "metadata": {},
   "source": [
    "# TP Time Series (Students version)\n",
    "\n",
    "This Practical Work is related to the time series analysis course. \n",
    "First download the file fictional_population.csv \n",
    "It contains a time series with the population of a fictional city every year during one century (in thousands).\n",
    "\n",
    "We can use the following libraries."
   ]
  },
  {
   "cell_type": "code",
   "execution_count": 1,
   "metadata": {},
   "outputs": [],
   "source": [
    "import math\n",
    "import matplotlib.pyplot as plt\n",
    "import numpy as np # numerical computation library\n",
    "import pandas as pd # data analysis library\n",
    "from statsmodels.graphics.tsaplots import plot_acf\n",
    "from scipy.optimize import curve_fit"
   ]
  },
  {
   "cell_type": "markdown",
   "metadata": {},
   "source": [
    "## Exercise 1: visualizing time series"
   ]
  },
  {
   "cell_type": "markdown",
   "metadata": {},
   "source": [
    "### Question 1\n",
    "\n",
    "After importing data (in any format that you want, but pandas dataframe is recommended), plot the time series."
   ]
  },
  {
   "cell_type": "markdown",
   "metadata": {},
   "source": [
    "### Question 2\n",
    "\n",
    "Plot the ACF of this time series. What do you think of its form in relation to what has been said in the course?"
   ]
  },
  {
   "cell_type": "markdown",
   "metadata": {},
   "source": [
    "## Exercise 2 : model and remove trend"
   ]
  },
  {
   "cell_type": "markdown",
   "metadata": {},
   "source": [
    "### Question 3\n",
    "What kind of function can be a good model for this time series? After choosing an appropriate model, fit the time series (we recommend a standard least square error minimization method). Plot the model along the original time series."
   ]
  },
  {
   "cell_type": "markdown",
   "metadata": {},
   "source": [
    "### Question 4\n",
    "\n",
    "Create the time series of the residuals, plot it and then plot its ACF.\n",
    "\n",
    "Add to the ACF plot horizontal lines that indicate the confidence interval corresponding to $ p=0.05 $ (as in the course). Do you think that the residual time series can be considered as IID? Justify in one or two sentences."
   ]
  },
  {
   "cell_type": "markdown",
   "metadata": {},
   "source": [
    "### Question 5\n",
    "\n",
    "We want to test if the residual time series is stationary by applying the simplified version of the Dickey-Fuller test seen in the course.\n",
    "\n",
    "Estimate the value of $ \\phi -1 $ such that $ r_t - r_{t-1} = (\\phi -1) r_{t-1} $ and compare $ \\frac{\\hat{\\phi} -1}{\\sigma / \\sqrt{N}} $ to the critical value given in the course ($-1.944$). \n",
    "\n",
    "If we consider that $ p=0.05 $ is a sufficient $p$-value, do you think that we can reject the hypothesis that the time series is not stationary?"
   ]
  }
 ],
 "metadata": {
  "kernelspec": {
   "display_name": "Python 3",
   "language": "python",
   "name": "python3"
  },
  "language_info": {
   "codemirror_mode": {
    "name": "ipython",
    "version": 3
   },
   "file_extension": ".py",
   "mimetype": "text/x-python",
   "name": "python",
   "nbconvert_exporter": "python",
   "pygments_lexer": "ipython3",
   "version": "3.6.9"
  }
 },
 "nbformat": 4,
 "nbformat_minor": 2
}
