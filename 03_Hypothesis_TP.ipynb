{
 "cells": [
  {
   "cell_type": "markdown",
   "metadata": {},
   "source": [
    "# TP03. Confidence Intervals & Hypothesis Tests"
   ]
  },
  {
   "cell_type": "markdown",
   "metadata": {},
   "source": [
    "#### enseignant: Anastasios Giovanidis 2021 - 2022\n",
    "#### date: 29 September 2021"
   ]
  },
  {
   "cell_type": "markdown",
   "metadata": {},
   "source": [
    "#### student name or binome:"
   ]
  },
  {
   "cell_type": "markdown",
   "metadata": {},
   "source": [
    "This is the TP related to 03. Confidence Intervals & Hypothesis Tests. \n",
    "\n",
    "We need to import the following libraries:"
   ]
  },
  {
   "cell_type": "code",
   "execution_count": 1,
   "metadata": {},
   "outputs": [],
   "source": [
    "import matplotlib.pyplot as plt\n",
    "import numpy as np\n",
    "from scipy.stats import norm\n",
    "import random"
   ]
  },
  {
   "cell_type": "markdown",
   "metadata": {},
   "source": [
    "## Exercise 1 (interval)"
   ]
  },
  {
   "cell_type": "markdown",
   "metadata": {},
   "source": [
    "We wish to measure a quantity $\\theta$, but there is a random error in each measurement (noise). \n",
    "\n",
    "Then, measurement $i$ is\n",
    "\n",
    "$X_i = \\theta+W_i$,\n",
    "\n",
    "$W_i$ being the error in the $i$-th measurement. All $W_i$s are i.i.d.\n",
    "\n",
    "Preliminaries: GENERATE $n$ measurements $(X_1,\\ldots, X_n)$ and report the average of the measurements $\\overline{X}$ as the estimated value of $\\theta$. To do so,\n",
    "- The $W_i$s are drawn from $Normal(0,\\sigma^2)$ with **known** standard deviation $\\sigma=4$.\n",
    "- The **unknown** parameter $\\theta=1$.\n",
    "\n",
    "**Questions**\n",
    "\n",
    "   a) Given a sample-set of size $n=10$, provide the confidence interval for $\\theta$, with confidence $\\alpha=90\\%$. \n",
    "      \n",
    "   b) Draw $T=2,000$ times, new sets of size $n=10$ each, find new intervals for each $t$, and mark with $+1$ if the unknown parameter $\\theta=1$ falls inside the new confidence interval calculated, otherwise $0$. What is the percentage that it falls inside the estimated interval?\n",
    "   \n",
    "   c) After having written the code, repeat (a)-(b) for unknown variance, using the sample standard deviation and approximate confidence intervals. What do you observe? Why?"
   ]
  },
  {
   "cell_type": "markdown",
   "metadata": {},
   "source": [
    "**Answers**"
   ]
  },
  {
   "cell_type": "code",
   "execution_count": 1,
   "metadata": {},
   "outputs": [],
   "source": [
    "#Hint: you will need X.mean(), X.var(), norm.ppf(1-a/2)"
   ]
  },
  {
   "cell_type": "markdown",
   "metadata": {},
   "source": [
    "## Exercise 2 (hypothesis test)*"
   ]
  },
  {
   "cell_type": "markdown",
   "metadata": {},
   "source": [
    "We will study in more detail the Neyman-Pearson Test, which leads to the Likelihood Ratio Test (LRT) we saw during the course. It can be shown that this test has the following property:\n",
    "\n",
    "**Theory:** The LRT minimises Type II error, under the requirement that Type I error is bounded by: $\\alpha\\leq2^{-\\lambda n}$ for a given $\\lambda>0$."
   ]
  },
  {
   "cell_type": "markdown",
   "metadata": {},
   "source": [
    "**Application in Wireless Networks:** We can use a hypothesis test to determine anomalies in the normal operation of a cellular network. Consider an LTE network which serves mobile users, and let us focus on some specific period every Monday. Specifically, assume that the network consists of just two base stations ($S_1$ and $S_2$), on neighbouring cells.\n",
    "\n",
    "During this period, and every Monday, each of these Base Stations have a charge $Y_{i}$, $i\\in\\left\\{1,2\\right\\}$ which is a random variable, drawn from a Normal distribution of mean $\\rho$ and standard deviation $\\sigma$, both known. This knowledge comes from systematic measurements that the stations constantly perform and send to some control center. **Suppose we can only get measurements from $S_1$.**"
   ]
  },
  {
   "cell_type": "markdown",
   "metadata": {},
   "source": [
    "If an anomaly occurs on station $S_2$, the second Base Station becomes deactivated. As a result, all users that were served by this station will migrate to the neighbouring $S_1$, and the new charge of the remaining station will become $2\\rho$ in mean value. This information will gradually be sent through load measurements to the control center as well. The new load of $S_1$ will be drawn from a Normal distribution with same standard deviation $\\sigma$ but with mean $2\\rho$."
   ]
  },
  {
   "cell_type": "markdown",
   "metadata": {},
   "source": [
    "Consider the hypothesis:\n",
    "\n",
    "- $H_0:$ the system of two stations is operating normally, VS\n",
    "\n",
    "- $H_1:$ there is an anomaly in base station $S_2$.\n",
    "\n",
    "**Questions**\n",
    "\n",
    "(A) Find (analytically) the criterion that guarantees a false alarm of $1\\%$.\n",
    "\n",
    "(B) The designer wishes to achieve a false alarm of $1\\%$ within $10$ measurements. **What is the appropriate threshold?**\n",
    "\n",
    "Draw $T=20,000$ sets of size $N=10$ from the $H_0$, and verify with simulations that indeed the false alarm is $1\\%$.\n",
    "\n",
    "(C) **Keep the threshold you found from question (A)**. Suppose that at the beginning of the measurements, all works well, but at time $t_0>0$ the station breaks down. We do not know the instant that the anomaly begins. How many additional measurements after $t_0$ are necessary, to detect the anomaly? Use simulations to find out! (Again do $T=20,000$ simulations to answer on average.)\n",
    "\n",
    "Use first value for $t_0=10$ and evaluate the average delay of detection. As a next step, repeat the experiment with $t_0=50,100, 200$\n",
    "\n",
    "Values: $\\rho = 50$ [Mbps], and $\\sigma = 5$ [Mbps]."
   ]
  },
  {
   "cell_type": "markdown",
   "metadata": {},
   "source": [
    "**Answers**"
   ]
  },
  {
   "cell_type": "markdown",
   "metadata": {},
   "source": [
    "The Normal distribution for measurements from $S_1$ is given by \n",
    "\n",
    "$f_X(x) = \\frac{1}{\\sigma\\sqrt{2\\pi}}\\exp\\left(-\\frac{(x-\\mu)^2}{2\\sigma^2}\\right)$,\n",
    "\n",
    "so, that the $\\log$-LRT between the two hypotheses reads:\n",
    "\n",
    "$\\log LRT = \\log\\frac{L(\\rho)}{L(2\\rho)} = \\frac{-\\sum_{i=1}^N(x_i-\\rho)^2+\\sum_{i=1}^N(x_i-2\\rho)^2}{2\\sigma^2}=\\frac{\\rho}{2\\sigma^2}\\sum_{i=1}^N\\left(3\\rho-2 x_i\\right)$.\n",
    "\n",
    "We accept $H_0$ if $\\overline{X}_N:=\\frac{1}{N}\\sum_{i=1}^N x_i\\leq \\frac{3}{2}\\rho-\\frac{\\sigma^2}{N\\rho}\\log(c)$, else we reject $H_0$ and we declare an anomaly. We can replace by $q:=\\frac{3}{2}\\rho-\\frac{\\sigma^2}{N\\rho}\\log(c)$, which can be a real negative or positive number, because $c>0$ and $\\log(c)<0$ for $c<1$. Altogether:\n",
    "\n",
    "- if $\\overline{X}_N\\leq q$, then $H_0$, otherwise\n",
    "- if $\\overline{X}_N > q$, then $H_1$."
   ]
  },
  {
   "cell_type": "code",
   "execution_count": null,
   "metadata": {},
   "outputs": [],
   "source": []
  }
 ],
 "metadata": {
  "kernelspec": {
   "display_name": "Python 3",
   "language": "python",
   "name": "python3"
  },
  "language_info": {
   "codemirror_mode": {
    "name": "ipython",
    "version": 3
   },
   "file_extension": ".py",
   "mimetype": "text/x-python",
   "name": "python",
   "nbconvert_exporter": "python",
   "pygments_lexer": "ipython3",
   "version": "3.6.10"
  }
 },
 "nbformat": 4,
 "nbformat_minor": 2
}
