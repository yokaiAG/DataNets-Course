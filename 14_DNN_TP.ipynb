{
 "cells": [
  {
   "cell_type": "markdown",
   "id": "cb2216b5",
   "metadata": {},
   "source": [
    "# 14. TP  Neural Networks (teacher)"
   ]
  },
  {
   "cell_type": "markdown",
   "id": "da5e4334",
   "metadata": {},
   "source": [
    "#### enseignant: Anastasios Giovanidis 2022 - 2023\n",
    "#### date: 10 January 2023"
   ]
  },
  {
   "cell_type": "markdown",
   "id": "4fe2205b",
   "metadata": {},
   "source": [
    "#### student name or binome:"
   ]
  },
  {
   "cell_type": "code",
   "execution_count": 1,
   "id": "ddca2600",
   "metadata": {},
   "outputs": [],
   "source": [
    "import matplotlib.pyplot as plt\n",
    "import numpy as np\n",
    "import pandas as pd\n",
    "import math\n",
    "import random"
   ]
  },
  {
   "cell_type": "markdown",
   "id": "aefd5fbe",
   "metadata": {},
   "source": [
    "## Exercise 1 (SGD)"
   ]
  },
  {
   "cell_type": "markdown",
   "id": "37a5cfbb",
   "metadata": {},
   "source": [
    "The aim of the exercise is to familiarise you with the Stochastic Gradient Descent, and its parameters (min-batch size, learning rate). We will repeat our classic Linear Regression Excercise but will solve it with SGD. \n",
    "\n",
    "We first generate artificial data. We will work with linear models of the form \n",
    "\n",
    "$y = \\beta_0+\\beta_1 x_1 + \\beta_2 x_2 + \\epsilon$."
   ]
  },
  {
   "cell_type": "code",
   "execution_count": 2,
   "id": "fece7224",
   "metadata": {},
   "outputs": [],
   "source": [
    "n = 60 # sample size\n",
    "b0 = +5 # real intercept (unobserved)\n",
    "b1 = np.array([2, -3]) # real slope (unobserved)"
   ]
  },
  {
   "cell_type": "code",
   "execution_count": 3,
   "id": "2e1c7ed4",
   "metadata": {},
   "outputs": [],
   "source": [
    "# Extra Added Noise:\n",
    "mue, sigmae = 0, 5 # error mean and standard deviation\n",
    "#\n",
    "# Limits of the x-axis:\n",
    "xl, xh = 0, 10"
   ]
  },
  {
   "cell_type": "code",
   "execution_count": 4,
   "id": "4807018a",
   "metadata": {},
   "outputs": [],
   "source": [
    "def genSample(n,b0,b1,sigmae,xLow,xHigh,seedit=199,size=1):\n",
    "    if type(seedit)==int:\n",
    "        np.random.seed(seedit)\n",
    "        Er = np.random.normal(mue, sigmae, n)\n",
    "        x = []\n",
    "        for k in range(size):\n",
    "            np.random.seed(seedit+k)\n",
    "            x.append(np.random.uniform(xl,xh,n))\n",
    "    else:\n",
    "        np.random.seed()\n",
    "        Er = np.random.normal(mue, sigmae, n)\n",
    "        x = []\n",
    "        for k in range(size):\n",
    "            np.random.seed()\n",
    "            x.append(np.random.uniform(xl,xh,n))\n",
    "    y = b0+Er\n",
    "    for k in range(size):\n",
    "        y +=b1[k]*x[k]\n",
    "    #\n",
    "    # Output\n",
    "    if size==1:\n",
    "        return (x[0], y, Er)\n",
    "    else:\n",
    "        return (x, y, Er)"
   ]
  },
  {
   "cell_type": "code",
   "execution_count": 5,
   "id": "f96db6eb",
   "metadata": {},
   "outputs": [],
   "source": [
    "(x,y,Er) = genSample(n,b0,b1,sigmae,xl,xh,seedit=199,size=2)"
   ]
  },
  {
   "cell_type": "code",
   "execution_count": 6,
   "id": "13dc1bd7",
   "metadata": {},
   "outputs": [],
   "source": [
    "data1 = {'x1': x[0], 'x2': x[1], 'error': Er, 'y': y}\n",
    "df_slr = pd.DataFrame(data=data1)\n",
    "#df_slr"
   ]
  },
  {
   "cell_type": "markdown",
   "id": "8b210773",
   "metadata": {},
   "source": [
    "We want to evaluate various mini-batch Stochastic Gradient Descent variations (SGD) each with a different value of the mini-batch size $m$ and the learning rate.\n",
    "\n",
    "You need to fill in the part of code below TODO.\n",
    "\n",
    "Then, use the SGD to find theconverged three parameters $(b_0,b_1,b_2)$\n",
    "for the following cases\n",
    "\n",
    "- mini-batch size: $m=1$, $m=10$ and $m=n$, where $n$ is the full data-size\n",
    "- learning rate: eta = 0.04, eta = 0.01 and eta = 0.001\n",
    "\n",
    "Explain your observations. "
   ]
  },
  {
   "cell_type": "code",
   "execution_count": 12,
   "id": "9995d3f4",
   "metadata": {},
   "outputs": [],
   "source": [
    "# Parameters\n",
    "T = 1000 #number of epochs\n",
    "m = 10 # Batch-size m is less than or equal to n\n",
    "eta = 0.01 # Learning rate"
   ]
  },
  {
   "cell_type": "markdown",
   "id": "404894b9",
   "metadata": {},
   "source": [
    "Fill in the parts of the following function marked by TODO."
   ]
  },
  {
   "cell_type": "code",
   "execution_count": 13,
   "id": "119178e5",
   "metadata": {},
   "outputs": [],
   "source": [
    "def LinReg_SGD(T,m,eta, printit=True):\n",
    "    # Initialise the unknown linear parameters\n",
    "    b1_init = np.random.uniform()\n",
    "    b2_init = np.random.uniform()\n",
    "    b0_init = np.random.uniform()\n",
    "    #\n",
    "    # Save the values per step in a list\n",
    "    b0 = b0_init\n",
    "    b0List = [b0]\n",
    "    b1 = b1_init\n",
    "    b1List = [b1_init]\n",
    "    b2 = b2_init\n",
    "    b2List = [b2]\n",
    "    #\n",
    "    # Iterate over epochs\n",
    "    #\n",
    "    for t in range(T):\n",
    "        # choose the mini-batch indices from the data\n",
    "        if m < n:\n",
    "            indx =  np.random.choice(np.arange(n), size=m, replace=False)\n",
    "        else:\n",
    "            indx = np.arange(n) # use this option if you want to use all data per iteration.\n",
    "        #\n",
    "        # use x_batch and y_batch to store the batch of data\n",
    "        y_batch = y[indx]\n",
    "        x_batch = [ [x[0][i],x[1][i]] for i in indx ]\n",
    "        x_batch1 = [x_batch[j][0] for j in range(m)]\n",
    "        x_batch2 = [x_batch[j][1] for j in range(m)]\n",
    "        #\n",
    "        # Calculate the derivatives\n",
    "        # TODO\n",
    "\n",
    "        #\n",
    "        # Update by stochastic gradient descent for batch-size m\n",
    "        # TODO\n",
    "\n",
    "        #\n",
    "        # Append the actual value to a list \n",
    "        b0List.append(b0)\n",
    "        b1List.append(b1)\n",
    "        b2List.append(b2)\n",
    "        #\n",
    "        if t%100 == 0 and printit == True:\n",
    "            print('Epoch', t, \"b0=\", b0, \"b1=\", b1, \"b2=\", b2)\n",
    "    return [b0List, b1List, b2List, b0, b1, b2]"
   ]
  },
  {
   "cell_type": "code",
   "execution_count": 14,
   "id": "75042c31",
   "metadata": {},
   "outputs": [],
   "source": [
    "[b0List, b1List, b2List, b0, b1, b2] = LinReg_SGD(T,m,eta,printit=False)"
   ]
  },
  {
   "cell_type": "code",
   "execution_count": 15,
   "id": "4cde9bf1",
   "metadata": {},
   "outputs": [
    {
     "name": "stdout",
     "output_type": "stream",
     "text": [
      "[3.411459685238228, 2.2857359789836216, -2.740384761439101]\n"
     ]
    }
   ],
   "source": [
    "# Print the final converged values\n",
    "print([b0, b1, b2])"
   ]
  },
  {
   "cell_type": "code",
   "execution_count": 16,
   "id": "30831c83",
   "metadata": {},
   "outputs": [
    {
     "data": {
      "image/png": "[encoded data removed]",
      "text/plain": [
       "<Figure size 640x480 with 3 Axes>"
      ]
     },
     "metadata": {},
     "output_type": "display_data"
    }
   ],
   "source": [
    "fig, axs = plt.subplots(3)\n",
    "fig.suptitle('Convergence of unknowns')\n",
    "#\n",
    "axs[0].plot(b0List,'r',label='b0, batch-size 10')\n",
    "axs[0].legend(loc=7)\n",
    "axs[0].grid()\n",
    "#\n",
    "axs[1].plot(b1List,'g',label='b1, batch-size 10')\n",
    "axs[1].legend(loc=7)\n",
    "axs[1].grid()\n",
    "#\n",
    "axs[2].plot(b2List,'--k',label='b2, batch-size 10')\n",
    "axs[2].legend(loc=7)\n",
    "axs[2].grid()"
   ]
  },
  {
   "cell_type": "markdown",
   "id": "e0b4b274",
   "metadata": {},
   "source": [
    "## Exercise 2 (MNIST classification using pytorch)"
   ]
  },
  {
   "cell_type": "code",
   "execution_count": 1,
   "id": "9ddc0258",
   "metadata": {},
   "outputs": [],
   "source": [
    "import torch\n",
    "from PIL import Image\n",
    "import matplotlib.pyplot as plt\n",
    "from torch import nn, save, load\n",
    "from torch.optim import Adam, SGD\n",
    "from torch.utils.data import DataLoader\n",
    "from torchvision import datasets\n",
    "from torchvision.transforms import ToTensor"
   ]
  },
  {
   "cell_type": "code",
   "execution_count": 2,
   "id": "0bc2ca6b",
   "metadata": {},
   "outputs": [
    {
     "name": "stdout",
     "output_type": "stream",
     "text": [
      "1.13.0\n"
     ]
    }
   ],
   "source": [
    "print(torch.__version__)"
   ]
  },
  {
   "cell_type": "markdown",
   "id": "bba938cb",
   "metadata": {},
   "source": [
    "We will use the MNIST dataset which is already available in the torchvision library. \n",
    "\n",
    "pytorch uses tensor format to process data. First we load the train and test sets."
   ]
  },
  {
   "cell_type": "code",
   "execution_count": 3,
   "id": "414eb268",
   "metadata": {},
   "outputs": [],
   "source": [
    "train = datasets.MNIST(root = 'data',download=True, train=True, transform=ToTensor())\n",
    "#\n",
    "test  = datasets.MNIST(root = 'data',download=True, train=False, transform=ToTensor()) "
   ]
  },
  {
   "cell_type": "markdown",
   "id": "6f542ae9",
   "metadata": {},
   "source": [
    "At the heart of PyTorch data loading utility is the torch.utils.data.DataLoader class. It represents a Python iterable over a dataset, with support for automatic batching (among other features)."
   ]
  },
  {
   "cell_type": "code",
   "execution_count": 4,
   "id": "18b99810",
   "metadata": {},
   "outputs": [],
   "source": [
    "dataset_train = DataLoader(train, batch_size=32)\n",
    "#\n",
    "dataset_test = DataLoader(test, batch_size=32)"
   ]
  },
  {
   "cell_type": "markdown",
   "id": "5d3f87c4",
   "metadata": {},
   "source": [
    "Let us see some examples for the train dataset mini-batch produced."
   ]
  },
  {
   "cell_type": "code",
   "execution_count": 5,
   "id": "939b0a81",
   "metadata": {},
   "outputs": [
    {
     "data": {
      "text/plain": [
       "torch.Size([32, 1, 28, 28])"
      ]
     },
     "execution_count": 5,
     "metadata": {},
     "output_type": "execute_result"
    }
   ],
   "source": [
    "examples = enumerate(dataset_test)\n",
    "batch_idx, (example_data, example_targets) = next(examples)\n",
    "example_data.shape"
   ]
  },
  {
   "cell_type": "markdown",
   "id": "cda1fcd6",
   "metadata": {},
   "source": [
    "Let us now visualise some data from the example batch."
   ]
  },
  {
   "cell_type": "code",
   "execution_count": 6,
   "id": "ab115190",
   "metadata": {},
   "outputs": [
    {
     "data": {
      "image/png": "[encoded data removed]",
      "text/plain": [
       "<Figure size 640x480 with 16 Axes>"
      ]
     },
     "execution_count": 6,
     "metadata": {},
     "output_type": "execute_result"
    },
    {
     "data": {
      "image/png": "[encoded data removed]",
      "text/plain": [
       "<Figure size 640x480 with 16 Axes>"
      ]
     },
     "metadata": {},
     "output_type": "display_data"
    }
   ],
   "source": [
    "fig = plt.figure()\n",
    "for i in range(16):\n",
    "    plt.subplot(4,4,i+1)\n",
    "    plt.tight_layout()\n",
    "    plt.imshow(example_data[i][0], cmap='gray', interpolation='none')\n",
    "    plt.title(\"Ground Truth: {}\".format(example_targets[i]))\n",
    "    plt.xticks([])\n",
    "    plt.yticks([])\n",
    "fig"
   ]
  },
  {
   "cell_type": "markdown",
   "id": "15d6e180",
   "metadata": {},
   "source": [
    "Image Classifier Neural Network. It is based on the nn.Module base class. \n",
    "We use the nn.Sequential to add layers and activation functions one after the other. Here we will only use the fully connected linear layers nn.Linear, which applies a linear transformation to the incoming data: $y=xA^T+b$. In fact in the example architecture proposed below, there is a single hidden linear layer with input dimension 1000.\n",
    "\n",
    "The first layer Flattens the $(1,28,28)$ size images in a single tensor.\n",
    "\n",
    "Activation functions can be found here:\n",
    "\n",
    "https://pytorch.org/docs/stable/nn.html#non-linear-activations-weighted-sum-nonlinearity\n",
    "\n",
    "The last layer included is the LogSoftmax, since we are interested in a multi-class classification problem \n",
    "\n",
    "https://pytorch.org/docs/stable/generated/torch.nn.LogSoftmax.html\n"
   ]
  },
  {
   "cell_type": "code",
   "execution_count": 7,
   "id": "27aff3cf",
   "metadata": {},
   "outputs": [],
   "source": [
    "class ImageClassifier(nn.Module):\n",
    "    def __init__(self):\n",
    "        super().__init__()\n",
    "        self.model = nn.Sequential(\n",
    "            nn.Flatten(),\n",
    "            nn.Linear(28*28, 1000, bias = True),\n",
    "            nn.ReLU(),\n",
    "            nn.Linear(1000, 10),\n",
    "            nn.LogSoftmax(dim=1)\n",
    "            #\n",
    "            # Alternative: Using Convolutional NN (better results)\n",
    "            #nn.Conv2d(1,32, (3,3)),\n",
    "            #nn.ReLU(),\n",
    "            #nn.Conv2d(32,64, (3,3)),\n",
    "            #nn.ReLU(),\n",
    "            #nn.Conv2d(64,64, (3,3)),\n",
    "            #nn.ReLU(),\n",
    "            #nn.Flatten(),\n",
    "            #nn.Linear(64*(28-6)*(28-6),10)\n",
    "            #nn.LogSoftmax(dim=1)\n",
    "        )\n",
    "    def forward(self, x):\n",
    "        return self.model(x)"
   ]
  },
  {
   "cell_type": "markdown",
   "id": "70bbbfce",
   "metadata": {},
   "source": [
    "Instance of the neural network, loss, optimizer. We choose SGD as optimiser with learning-rate lr. The SGD takes also as advanced feature momentum. We use as loss function the NLLLoss() from (https://pytorch.org/docs/stable/generated/torch.nn.NLLLoss.html#torch.nn.NLLLoss) which is combined with the LogSoftmax layer. As an alternative Loss: we can use the CrossEntropyLoss, but in that case we need to remove \n",
    "the LogSoftmax layer from our Network "
   ]
  },
  {
   "cell_type": "code",
   "execution_count": 8,
   "id": "fc4065ef",
   "metadata": {},
   "outputs": [],
   "source": [
    "clf = ImageClassifier().to('cpu')\n",
    "opt = SGD(clf.parameters(), lr = 1e-3, momentum = 0.5)\n",
    "loss_fn = nn.NLLLoss()\n",
    "# \n",
    "# Alternative loss:\n",
    "#loss_fn = nn.CrossEntropyLoss()\n",
    "#\n",
    "# Alternative optimiser: \n",
    "#opt = Adam(clf.parameters(), lr = 1e-3)"
   ]
  },
  {
   "cell_type": "markdown",
   "id": "147d33e8",
   "metadata": {},
   "source": [
    "Training flow: in the pytorch environment the training is done as follows. One batch after the other is picked from the dataset_train, it does a forward pass of the neural network to give an estimation yhat and then the loss is calculated by the loss function, given the real labels. To apply backprop, the pytorch environment first requires to zero the gradient entry values with opt.zero_grad(), then do the backward propagation of the gradients with the loss.backward() and then update the parameters of the neural network by opt.step()."
   ]
  },
  {
   "cell_type": "code",
   "execution_count": 9,
   "id": "61e66fcb",
   "metadata": {},
   "outputs": [
    {
     "name": "stdout",
     "output_type": "stream",
     "text": [
      "Epoch:0 loss is 1.0972838401794434\n",
      "Epoch:1 loss is 0.5643971562385559\n",
      "Epoch:2 loss is 0.38305532932281494\n",
      "Epoch:3 loss is 0.29909586906433105\n",
      "Epoch:4 loss is 0.2533709704875946\n",
      "Epoch:5 loss is 0.22529256343841553\n"
     ]
    }
   ],
   "source": [
    "if __name__ == \"__main__\":\n",
    "    for epoch in range(6): #train for 6 epochs\n",
    "        for indx_batch, batch in enumerate(dataset_train):\n",
    "            X,y = batch\n",
    "            X, y = X.to('cpu'), y.to('cpu')\n",
    "            #\n",
    "            yhat = clf(X)\n",
    "            loss = loss_fn(yhat, y)\n",
    "            \n",
    "            # Apply backprop\n",
    "            opt.zero_grad()\n",
    "            loss.backward()\n",
    "            opt.step()\n",
    "        print(f\"Epoch:{epoch} loss is {loss.item()}\")"
   ]
  },
  {
   "cell_type": "markdown",
   "id": "2ee53bf4",
   "metadata": {},
   "source": [
    "save the trained NN"
   ]
  },
  {
   "cell_type": "code",
   "execution_count": 10,
   "id": "638a9659",
   "metadata": {},
   "outputs": [],
   "source": [
    "with open('model_state.pt', 'wb') as f:\n",
    "    save(clf.state_dict(), f, _use_new_zipfile_serialization=False)"
   ]
  },
  {
   "cell_type": "markdown",
   "id": "45e47157",
   "metadata": {},
   "source": [
    "re-load the trained NN"
   ]
  },
  {
   "cell_type": "code",
   "execution_count": 11,
   "id": "a36abca8",
   "metadata": {},
   "outputs": [],
   "source": [
    "clf = ImageClassifier().to('cpu')\n",
    "#\n",
    "with open('model_state.pt', 'rb') as f:\n",
    "    clf.load_state_dict(load(f))"
   ]
  },
  {
   "cell_type": "markdown",
   "id": "5755a903",
   "metadata": {},
   "source": [
    "Test prediction: we need to shift the neural network to evaluation mode with clf.eval(). We use the commande torch.no_grad() which leaves the parameters unchanged without updates. Then for all batches in the dataset_test, it does a forward pass in the neural network to calculate the output. Then calculates the test_loss with the loss function and does a classification prediction by assigning for each entry the class with the maximum LogSoftmax output dimension. The number of correctly predicted labels is found by the pred.eq(target) command."
   ]
  },
  {
   "cell_type": "code",
   "execution_count": 25,
   "id": "ec6815f0",
   "metadata": {},
   "outputs": [],
   "source": [
    "def test():\n",
    "    test_losses = list()\n",
    "    clf.eval()\n",
    "    test_loss = 0\n",
    "    correct = 0\n",
    "    with torch.no_grad():\n",
    "        for data, target in dataset_test:\n",
    "            output = clf(data)\n",
    "            test_loss += loss_fn(output, target).item()\n",
    "            pred = output.data.max(1, keepdim=True)[1]\n",
    "            correct += pred.eq(target.data.view_as(pred)).sum()\n",
    "    test_loss /= len(dataset_test.dataset)\n",
    "    test_losses.append(test_loss)\n",
    "    print('\\nTest set: Avg. loss: {:.4f}, Accuracy: {}/{} ({:.0f}%)\\n'.format(\n",
    "    test_loss, correct, len(dataset_test.dataset),\n",
    "    100. * correct / len(dataset_test.dataset)))"
   ]
  },
  {
   "cell_type": "code",
   "execution_count": 26,
   "id": "77463d9c",
   "metadata": {},
   "outputs": [
    {
     "name": "stdout",
     "output_type": "stream",
     "text": [
      "\n",
      "Test set: Avg. loss: 0.0113, Accuracy: 9015/10000 (90%)\n",
      "\n"
     ]
    }
   ],
   "source": [
    "test()"
   ]
  },
  {
   "cell_type": "code",
   "execution_count": 27,
   "id": "3c2286ea",
   "metadata": {},
   "outputs": [],
   "source": [
    "with torch.no_grad():\n",
    "    output = clf(example_data)"
   ]
  },
  {
   "cell_type": "code",
   "execution_count": 28,
   "id": "e2e59f64",
   "metadata": {},
   "outputs": [
    {
     "data": {
      "image/png": "[encoded data removed]",
      "text/plain": [
       "<Figure size 640x480 with 16 Axes>"
      ]
     },
     "execution_count": 28,
     "metadata": {},
     "output_type": "execute_result"
    },
    {
     "data": {
      "image/png": "[encoded data removed]",
      "text/plain": [
       "<Figure size 640x480 with 16 Axes>"
      ]
     },
     "metadata": {},
     "output_type": "display_data"
    }
   ],
   "source": [
    "fig = plt.figure()\n",
    "for i in range(16):\n",
    "    plt.subplot(4,4,i+1)\n",
    "    plt.tight_layout()\n",
    "    plt.imshow(example_data[i][0], cmap='gray', interpolation='none')\n",
    "    plt.title(\"Prediction: {}\".format(\n",
    "    output.data.max(1, keepdim=True)[1][i].item()))\n",
    "    plt.xticks([])\n",
    "    plt.yticks([])\n",
    "fig"
   ]
  },
  {
   "cell_type": "markdown",
   "id": "2f9eecb8",
   "metadata": {},
   "source": [
    "**Question:** how many unknown parameters are there in the ImageClassifier NN? \n",
    "\n",
    "**Exercise** Modify the ImageClassifier() Neural Network, by reducing/incresing the dimension and/or adding more layers so that it becomes deeper, and/or changing the activation. In each modification calculate how many unknowns there are as parameters in the Neural Network that you propose. How does the number of parameters affect the convergence? Can you find an architecture that improves the above test-accuracy of $90\\%$? \n",
    "\n",
    "- you can also play with the SGD parameters of the learning rate and the mini-batch size. \n",
    "\n",
    "- if running the NN is very heavy for your CPU try the google colab environment and use GPU."
   ]
  },
  {
   "cell_type": "markdown",
   "id": "1fd4f26e",
   "metadata": {},
   "source": [
    "## Exercise 3 (Wine Quality using Keras)"
   ]
  },
  {
   "cell_type": "markdown",
   "id": "a1567167",
   "metadata": {},
   "source": [
    "**Objectives :**\n",
    "\n",
    " - Predict the **quality of wines**, based on their analysis.\n",
    " - Understanding the principle and the architecture of a regression with a dense neural network. \n",
    "\n",
    "The **[Wine Quality datasets](https://archive.ics.uci.edu/ml/datasets/wine+Quality)** are made up of analyses of a large number of wines, with an associated quality (between 0 and 10)  \n",
    "This dataset is provide by :  \n",
    "Paulo Cortez, University of Minho, Guimarães, Portugal, http://www3.dsi.uminho.pt/pcortez  \n",
    "A. Cerdeira, F. Almeida, T. Matos and J. Reis, Viticulture Commission of the Vinho Verde Region(CVRVV), Porto, Portugal, @2009  \n",
    "This dataset can be retreive at [University of California Irvine (UCI)](https://archive-beta.ics.uci.edu/ml/datasets/wine+quality)\n",
    "\n",
    "\n",
    "Due to privacy and logistic issues, only physicochemical and sensory variables are available  \n",
    "There is no data about grape types, wine brand, wine selling price, etc.\n",
    "\n",
    "- fixed acidity\n",
    "- volatile acidity\n",
    "- citric acid\n",
    "- residual sugar\n",
    "- chlorides\n",
    "- free sulfur dioxide\n",
    "- total sulfur dioxide\n",
    "- density\n",
    "- pH\n",
    "- sulphates\n",
    "- alcohol\n",
    "- quality (score between 0 and 10) \n",
    " \n",
    " What we're going to do :\n",
    "\n",
    " - Retrieve data\n",
    " - Preparing the data\n",
    " - Build a model\n",
    " - Train the model\n",
    " - Evaluate the result"
   ]
  },
  {
   "cell_type": "code",
   "execution_count": 1,
   "id": "fcd73b9f",
   "metadata": {},
   "outputs": [
    {
     "name": "stderr",
     "output_type": "stream",
     "text": [
      "2023-01-08 18:57:30.809824: I tensorflow/core/platform/cpu_feature_guard.cc:193] This TensorFlow binary is optimized with oneAPI Deep Neural Network Library (oneDNN) to use the following CPU instructions in performance-critical operations:  AVX2 FMA\n",
      "To enable them in other operations, rebuild TensorFlow with the appropriate compiler flags.\n"
     ]
    }
   ],
   "source": [
    "import tensorflow as tf\n",
    "from tensorflow import keras\n",
    "#\n",
    "import numpy as np\n",
    "import matplotlib.pyplot as plt\n",
    "import pandas as pd"
   ]
  },
  {
   "cell_type": "markdown",
   "id": "a747b961",
   "metadata": {},
   "source": [
    "Retrieve the data."
   ]
  },
  {
   "cell_type": "code",
   "execution_count": 2,
   "id": "be5a1304",
   "metadata": {},
   "outputs": [
    {
     "data": {
      "text/html": [
       "<style type=\"text/css\">\n",
       "</style>\n",
       "<table id=\"T_3aefa\">\n",
       "  <thead>\n",
       "    <tr>\n",
       "      <th class=\"blank level0\" >&nbsp;</th>\n",
       "      <th id=\"T_3aefa_level0_col0\" class=\"col_heading level0 col0\" >fixed acidity</th>\n",
       "      <th id=\"T_3aefa_level0_col1\" class=\"col_heading level0 col1\" >volatile acidity</th>\n",
       "      <th id=\"T_3aefa_level0_col2\" class=\"col_heading level0 col2\" >citric acid</th>\n",
       "      <th id=\"T_3aefa_level0_col3\" class=\"col_heading level0 col3\" >residual sugar</th>\n",
       "      <th id=\"T_3aefa_level0_col4\" class=\"col_heading level0 col4\" >chlorides</th>\n",
       "      <th id=\"T_3aefa_level0_col5\" class=\"col_heading level0 col5\" >free sulfur dioxide</th>\n",
       "      <th id=\"T_3aefa_level0_col6\" class=\"col_heading level0 col6\" >total sulfur dioxide</th>\n",
       "      <th id=\"T_3aefa_level0_col7\" class=\"col_heading level0 col7\" >density</th>\n",
       "      <th id=\"T_3aefa_level0_col8\" class=\"col_heading level0 col8\" >pH</th>\n",
       "      <th id=\"T_3aefa_level0_col9\" class=\"col_heading level0 col9\" >sulphates</th>\n",
       "      <th id=\"T_3aefa_level0_col10\" class=\"col_heading level0 col10\" >alcohol</th>\n",
       "      <th id=\"T_3aefa_level0_col11\" class=\"col_heading level0 col11\" >quality</th>\n",
       "    </tr>\n",
       "  </thead>\n",
       "  <tbody>\n",
       "    <tr>\n",
       "      <th id=\"T_3aefa_level0_row0\" class=\"row_heading level0 row0\" >0</th>\n",
       "      <td id=\"T_3aefa_row0_col0\" class=\"data row0 col0\" >7.40</td>\n",
       "      <td id=\"T_3aefa_row0_col1\" class=\"data row0 col1\" >0.70</td>\n",
       "      <td id=\"T_3aefa_row0_col2\" class=\"data row0 col2\" >0.00</td>\n",
       "      <td id=\"T_3aefa_row0_col3\" class=\"data row0 col3\" >1.90</td>\n",
       "      <td id=\"T_3aefa_row0_col4\" class=\"data row0 col4\" >0.08</td>\n",
       "      <td id=\"T_3aefa_row0_col5\" class=\"data row0 col5\" >11.00</td>\n",
       "      <td id=\"T_3aefa_row0_col6\" class=\"data row0 col6\" >34.00</td>\n",
       "      <td id=\"T_3aefa_row0_col7\" class=\"data row0 col7\" >1.00</td>\n",
       "      <td id=\"T_3aefa_row0_col8\" class=\"data row0 col8\" >3.51</td>\n",
       "      <td id=\"T_3aefa_row0_col9\" class=\"data row0 col9\" >0.56</td>\n",
       "      <td id=\"T_3aefa_row0_col10\" class=\"data row0 col10\" >9.40</td>\n",
       "      <td id=\"T_3aefa_row0_col11\" class=\"data row0 col11\" >5.00</td>\n",
       "    </tr>\n",
       "    <tr>\n",
       "      <th id=\"T_3aefa_level0_row1\" class=\"row_heading level0 row1\" >1</th>\n",
       "      <td id=\"T_3aefa_row1_col0\" class=\"data row1 col0\" >7.80</td>\n",
       "      <td id=\"T_3aefa_row1_col1\" class=\"data row1 col1\" >0.88</td>\n",
       "      <td id=\"T_3aefa_row1_col2\" class=\"data row1 col2\" >0.00</td>\n",
       "      <td id=\"T_3aefa_row1_col3\" class=\"data row1 col3\" >2.60</td>\n",
       "      <td id=\"T_3aefa_row1_col4\" class=\"data row1 col4\" >0.10</td>\n",
       "      <td id=\"T_3aefa_row1_col5\" class=\"data row1 col5\" >25.00</td>\n",
       "      <td id=\"T_3aefa_row1_col6\" class=\"data row1 col6\" >67.00</td>\n",
       "      <td id=\"T_3aefa_row1_col7\" class=\"data row1 col7\" >1.00</td>\n",
       "      <td id=\"T_3aefa_row1_col8\" class=\"data row1 col8\" >3.20</td>\n",
       "      <td id=\"T_3aefa_row1_col9\" class=\"data row1 col9\" >0.68</td>\n",
       "      <td id=\"T_3aefa_row1_col10\" class=\"data row1 col10\" >9.80</td>\n",
       "      <td id=\"T_3aefa_row1_col11\" class=\"data row1 col11\" >5.00</td>\n",
       "    </tr>\n",
       "    <tr>\n",
       "      <th id=\"T_3aefa_level0_row2\" class=\"row_heading level0 row2\" >2</th>\n",
       "      <td id=\"T_3aefa_row2_col0\" class=\"data row2 col0\" >7.80</td>\n",
       "      <td id=\"T_3aefa_row2_col1\" class=\"data row2 col1\" >0.76</td>\n",
       "      <td id=\"T_3aefa_row2_col2\" class=\"data row2 col2\" >0.04</td>\n",
       "      <td id=\"T_3aefa_row2_col3\" class=\"data row2 col3\" >2.30</td>\n",
       "      <td id=\"T_3aefa_row2_col4\" class=\"data row2 col4\" >0.09</td>\n",
       "      <td id=\"T_3aefa_row2_col5\" class=\"data row2 col5\" >15.00</td>\n",
       "      <td id=\"T_3aefa_row2_col6\" class=\"data row2 col6\" >54.00</td>\n",
       "      <td id=\"T_3aefa_row2_col7\" class=\"data row2 col7\" >1.00</td>\n",
       "      <td id=\"T_3aefa_row2_col8\" class=\"data row2 col8\" >3.26</td>\n",
       "      <td id=\"T_3aefa_row2_col9\" class=\"data row2 col9\" >0.65</td>\n",
       "      <td id=\"T_3aefa_row2_col10\" class=\"data row2 col10\" >9.80</td>\n",
       "      <td id=\"T_3aefa_row2_col11\" class=\"data row2 col11\" >5.00</td>\n",
       "    </tr>\n",
       "    <tr>\n",
       "      <th id=\"T_3aefa_level0_row3\" class=\"row_heading level0 row3\" >3</th>\n",
       "      <td id=\"T_3aefa_row3_col0\" class=\"data row3 col0\" >11.20</td>\n",
       "      <td id=\"T_3aefa_row3_col1\" class=\"data row3 col1\" >0.28</td>\n",
       "      <td id=\"T_3aefa_row3_col2\" class=\"data row3 col2\" >0.56</td>\n",
       "      <td id=\"T_3aefa_row3_col3\" class=\"data row3 col3\" >1.90</td>\n",
       "      <td id=\"T_3aefa_row3_col4\" class=\"data row3 col4\" >0.07</td>\n",
       "      <td id=\"T_3aefa_row3_col5\" class=\"data row3 col5\" >17.00</td>\n",
       "      <td id=\"T_3aefa_row3_col6\" class=\"data row3 col6\" >60.00</td>\n",
       "      <td id=\"T_3aefa_row3_col7\" class=\"data row3 col7\" >1.00</td>\n",
       "      <td id=\"T_3aefa_row3_col8\" class=\"data row3 col8\" >3.16</td>\n",
       "      <td id=\"T_3aefa_row3_col9\" class=\"data row3 col9\" >0.58</td>\n",
       "      <td id=\"T_3aefa_row3_col10\" class=\"data row3 col10\" >9.80</td>\n",
       "      <td id=\"T_3aefa_row3_col11\" class=\"data row3 col11\" >6.00</td>\n",
       "    </tr>\n",
       "    <tr>\n",
       "      <th id=\"T_3aefa_level0_row4\" class=\"row_heading level0 row4\" >4</th>\n",
       "      <td id=\"T_3aefa_row4_col0\" class=\"data row4 col0\" >7.40</td>\n",
       "      <td id=\"T_3aefa_row4_col1\" class=\"data row4 col1\" >0.70</td>\n",
       "      <td id=\"T_3aefa_row4_col2\" class=\"data row4 col2\" >0.00</td>\n",
       "      <td id=\"T_3aefa_row4_col3\" class=\"data row4 col3\" >1.90</td>\n",
       "      <td id=\"T_3aefa_row4_col4\" class=\"data row4 col4\" >0.08</td>\n",
       "      <td id=\"T_3aefa_row4_col5\" class=\"data row4 col5\" >11.00</td>\n",
       "      <td id=\"T_3aefa_row4_col6\" class=\"data row4 col6\" >34.00</td>\n",
       "      <td id=\"T_3aefa_row4_col7\" class=\"data row4 col7\" >1.00</td>\n",
       "      <td id=\"T_3aefa_row4_col8\" class=\"data row4 col8\" >3.51</td>\n",
       "      <td id=\"T_3aefa_row4_col9\" class=\"data row4 col9\" >0.56</td>\n",
       "      <td id=\"T_3aefa_row4_col10\" class=\"data row4 col10\" >9.40</td>\n",
       "      <td id=\"T_3aefa_row4_col11\" class=\"data row4 col11\" >5.00</td>\n",
       "    </tr>\n",
       "  </tbody>\n",
       "</table>\n"
      ],
      "text/plain": [
       "<pandas.io.formats.style.Styler at 0x7fe7c3706a60>"
      ]
     },
     "metadata": {},
     "output_type": "display_data"
    },
    {
     "name": "stdout",
     "output_type": "stream",
     "text": [
      "Missing Data :  0   Shape is :  (1599, 12)\n"
     ]
    }
   ],
   "source": [
    "dataset_name  = 'winequality-red.csv'\n",
    "#\n",
    "data = pd.read_csv(f'{dataset_name}', header=0,sep=';')\n",
    "\n",
    "display(data.head(5).style.format(\"{0:.2f}\"))\n",
    "print('Missing Data : ',data.isna().sum().sum(), '  Shape is : ', data.shape)"
   ]
  },
  {
   "cell_type": "markdown",
   "id": "2af95068",
   "metadata": {},
   "source": [
    "Split the data into $80\\%$ for train and $20\\%$ for test."
   ]
  },
  {
   "cell_type": "code",
   "execution_count": 3,
   "id": "67cd706d",
   "metadata": {},
   "outputs": [
    {
     "name": "stdout",
     "output_type": "stream",
     "text": [
      "Original data shape was :  (1599, 12)\n",
      "x_train :  (1279, 11) y_train :  (1279,)\n",
      "x_test  :  (320, 11) y_test  :  (320,)\n"
     ]
    }
   ],
   "source": [
    "# ---- Split => train, test\n",
    "data       = data.sample(frac=1., axis=0)     # Shuffle\n",
    "data_train = data.sample(frac=0.8, axis=0)    # get 80 %\n",
    "data_test  = data.drop(data_train.index)      # test = all - train\n",
    "\n",
    "# ---- Split => x,y (y is quality)\n",
    "#\n",
    "x_train = data_train.drop('quality',  axis=1)\n",
    "y_train = data_train['quality']\n",
    "x_test  = data_test.drop('quality',   axis=1)\n",
    "y_test  = data_test['quality']\n",
    "\n",
    "print('Original data shape was : ',data.shape)\n",
    "print('x_train : ',x_train.shape, 'y_train : ',y_train.shape)\n",
    "print('x_test  : ',x_test.shape,  'y_test  : ',y_test.shape)"
   ]
  },
  {
   "cell_type": "markdown",
   "id": "bdc87fea",
   "metadata": {},
   "source": [
    "Prepare the data: Data normalization\n",
    " - All train data must be normalized.\n",
    " - To do this we will **subtract the mean** and **divide by the standard deviation**.  "
   ]
  },
  {
   "cell_type": "code",
   "execution_count": 4,
   "id": "7cd68132",
   "metadata": {},
   "outputs": [
    {
     "data": {
      "text/html": [
       "<style type=\"text/css\">\n",
       "</style>\n",
       "<table id=\"T_54b25\">\n",
       "  <caption>Before normalization :</caption>\n",
       "  <thead>\n",
       "    <tr>\n",
       "      <th class=\"blank level0\" >&nbsp;</th>\n",
       "      <th id=\"T_54b25_level0_col0\" class=\"col_heading level0 col0\" >fixed acidity</th>\n",
       "      <th id=\"T_54b25_level0_col1\" class=\"col_heading level0 col1\" >volatile acidity</th>\n",
       "      <th id=\"T_54b25_level0_col2\" class=\"col_heading level0 col2\" >citric acid</th>\n",
       "      <th id=\"T_54b25_level0_col3\" class=\"col_heading level0 col3\" >residual sugar</th>\n",
       "      <th id=\"T_54b25_level0_col4\" class=\"col_heading level0 col4\" >chlorides</th>\n",
       "      <th id=\"T_54b25_level0_col5\" class=\"col_heading level0 col5\" >free sulfur dioxide</th>\n",
       "      <th id=\"T_54b25_level0_col6\" class=\"col_heading level0 col6\" >total sulfur dioxide</th>\n",
       "      <th id=\"T_54b25_level0_col7\" class=\"col_heading level0 col7\" >density</th>\n",
       "      <th id=\"T_54b25_level0_col8\" class=\"col_heading level0 col8\" >pH</th>\n",
       "      <th id=\"T_54b25_level0_col9\" class=\"col_heading level0 col9\" >sulphates</th>\n",
       "      <th id=\"T_54b25_level0_col10\" class=\"col_heading level0 col10\" >alcohol</th>\n",
       "    </tr>\n",
       "  </thead>\n",
       "  <tbody>\n",
       "    <tr>\n",
       "      <th id=\"T_54b25_level0_row0\" class=\"row_heading level0 row0\" >count</th>\n",
       "      <td id=\"T_54b25_row0_col0\" class=\"data row0 col0\" >1279.00</td>\n",
       "      <td id=\"T_54b25_row0_col1\" class=\"data row0 col1\" >1279.00</td>\n",
       "      <td id=\"T_54b25_row0_col2\" class=\"data row0 col2\" >1279.00</td>\n",
       "      <td id=\"T_54b25_row0_col3\" class=\"data row0 col3\" >1279.00</td>\n",
       "      <td id=\"T_54b25_row0_col4\" class=\"data row0 col4\" >1279.00</td>\n",
       "      <td id=\"T_54b25_row0_col5\" class=\"data row0 col5\" >1279.00</td>\n",
       "      <td id=\"T_54b25_row0_col6\" class=\"data row0 col6\" >1279.00</td>\n",
       "      <td id=\"T_54b25_row0_col7\" class=\"data row0 col7\" >1279.00</td>\n",
       "      <td id=\"T_54b25_row0_col8\" class=\"data row0 col8\" >1279.00</td>\n",
       "      <td id=\"T_54b25_row0_col9\" class=\"data row0 col9\" >1279.00</td>\n",
       "      <td id=\"T_54b25_row0_col10\" class=\"data row0 col10\" >1279.00</td>\n",
       "    </tr>\n",
       "    <tr>\n",
       "      <th id=\"T_54b25_level0_row1\" class=\"row_heading level0 row1\" >mean</th>\n",
       "      <td id=\"T_54b25_row1_col0\" class=\"data row1 col0\" >8.32</td>\n",
       "      <td id=\"T_54b25_row1_col1\" class=\"data row1 col1\" >0.53</td>\n",
       "      <td id=\"T_54b25_row1_col2\" class=\"data row1 col2\" >0.27</td>\n",
       "      <td id=\"T_54b25_row1_col3\" class=\"data row1 col3\" >2.57</td>\n",
       "      <td id=\"T_54b25_row1_col4\" class=\"data row1 col4\" >0.09</td>\n",
       "      <td id=\"T_54b25_row1_col5\" class=\"data row1 col5\" >15.85</td>\n",
       "      <td id=\"T_54b25_row1_col6\" class=\"data row1 col6\" >46.68</td>\n",
       "      <td id=\"T_54b25_row1_col7\" class=\"data row1 col7\" >1.00</td>\n",
       "      <td id=\"T_54b25_row1_col8\" class=\"data row1 col8\" >3.31</td>\n",
       "      <td id=\"T_54b25_row1_col9\" class=\"data row1 col9\" >0.66</td>\n",
       "      <td id=\"T_54b25_row1_col10\" class=\"data row1 col10\" >10.43</td>\n",
       "    </tr>\n",
       "    <tr>\n",
       "      <th id=\"T_54b25_level0_row2\" class=\"row_heading level0 row2\" >std</th>\n",
       "      <td id=\"T_54b25_row2_col0\" class=\"data row2 col0\" >1.76</td>\n",
       "      <td id=\"T_54b25_row2_col1\" class=\"data row2 col1\" >0.18</td>\n",
       "      <td id=\"T_54b25_row2_col2\" class=\"data row2 col2\" >0.19</td>\n",
       "      <td id=\"T_54b25_row2_col3\" class=\"data row2 col3\" >1.49</td>\n",
       "      <td id=\"T_54b25_row2_col4\" class=\"data row2 col4\" >0.04</td>\n",
       "      <td id=\"T_54b25_row2_col5\" class=\"data row2 col5\" >10.34</td>\n",
       "      <td id=\"T_54b25_row2_col6\" class=\"data row2 col6\" >33.26</td>\n",
       "      <td id=\"T_54b25_row2_col7\" class=\"data row2 col7\" >0.00</td>\n",
       "      <td id=\"T_54b25_row2_col8\" class=\"data row2 col8\" >0.15</td>\n",
       "      <td id=\"T_54b25_row2_col9\" class=\"data row2 col9\" >0.17</td>\n",
       "      <td id=\"T_54b25_row2_col10\" class=\"data row2 col10\" >1.06</td>\n",
       "    </tr>\n",
       "    <tr>\n",
       "      <th id=\"T_54b25_level0_row3\" class=\"row_heading level0 row3\" >min</th>\n",
       "      <td id=\"T_54b25_row3_col0\" class=\"data row3 col0\" >4.70</td>\n",
       "      <td id=\"T_54b25_row3_col1\" class=\"data row3 col1\" >0.12</td>\n",
       "      <td id=\"T_54b25_row3_col2\" class=\"data row3 col2\" >0.00</td>\n",
       "      <td id=\"T_54b25_row3_col3\" class=\"data row3 col3\" >0.90</td>\n",
       "      <td id=\"T_54b25_row3_col4\" class=\"data row3 col4\" >0.01</td>\n",
       "      <td id=\"T_54b25_row3_col5\" class=\"data row3 col5\" >1.00</td>\n",
       "      <td id=\"T_54b25_row3_col6\" class=\"data row3 col6\" >6.00</td>\n",
       "      <td id=\"T_54b25_row3_col7\" class=\"data row3 col7\" >0.99</td>\n",
       "      <td id=\"T_54b25_row3_col8\" class=\"data row3 col8\" >2.74</td>\n",
       "      <td id=\"T_54b25_row3_col9\" class=\"data row3 col9\" >0.37</td>\n",
       "      <td id=\"T_54b25_row3_col10\" class=\"data row3 col10\" >8.40</td>\n",
       "    </tr>\n",
       "    <tr>\n",
       "      <th id=\"T_54b25_level0_row4\" class=\"row_heading level0 row4\" >25%</th>\n",
       "      <td id=\"T_54b25_row4_col0\" class=\"data row4 col0\" >7.10</td>\n",
       "      <td id=\"T_54b25_row4_col1\" class=\"data row4 col1\" >0.39</td>\n",
       "      <td id=\"T_54b25_row4_col2\" class=\"data row4 col2\" >0.10</td>\n",
       "      <td id=\"T_54b25_row4_col3\" class=\"data row4 col3\" >1.90</td>\n",
       "      <td id=\"T_54b25_row4_col4\" class=\"data row4 col4\" >0.07</td>\n",
       "      <td id=\"T_54b25_row4_col5\" class=\"data row4 col5\" >7.00</td>\n",
       "      <td id=\"T_54b25_row4_col6\" class=\"data row4 col6\" >22.00</td>\n",
       "      <td id=\"T_54b25_row4_col7\" class=\"data row4 col7\" >1.00</td>\n",
       "      <td id=\"T_54b25_row4_col8\" class=\"data row4 col8\" >3.21</td>\n",
       "      <td id=\"T_54b25_row4_col9\" class=\"data row4 col9\" >0.55</td>\n",
       "      <td id=\"T_54b25_row4_col10\" class=\"data row4 col10\" >9.50</td>\n",
       "    </tr>\n",
       "    <tr>\n",
       "      <th id=\"T_54b25_level0_row5\" class=\"row_heading level0 row5\" >50%</th>\n",
       "      <td id=\"T_54b25_row5_col0\" class=\"data row5 col0\" >7.90</td>\n",
       "      <td id=\"T_54b25_row5_col1\" class=\"data row5 col1\" >0.52</td>\n",
       "      <td id=\"T_54b25_row5_col2\" class=\"data row5 col2\" >0.26</td>\n",
       "      <td id=\"T_54b25_row5_col3\" class=\"data row5 col3\" >2.20</td>\n",
       "      <td id=\"T_54b25_row5_col4\" class=\"data row5 col4\" >0.08</td>\n",
       "      <td id=\"T_54b25_row5_col5\" class=\"data row5 col5\" >14.00</td>\n",
       "      <td id=\"T_54b25_row5_col6\" class=\"data row5 col6\" >37.00</td>\n",
       "      <td id=\"T_54b25_row5_col7\" class=\"data row5 col7\" >1.00</td>\n",
       "      <td id=\"T_54b25_row5_col8\" class=\"data row5 col8\" >3.32</td>\n",
       "      <td id=\"T_54b25_row5_col9\" class=\"data row5 col9\" >0.62</td>\n",
       "      <td id=\"T_54b25_row5_col10\" class=\"data row5 col10\" >10.20</td>\n",
       "    </tr>\n",
       "    <tr>\n",
       "      <th id=\"T_54b25_level0_row6\" class=\"row_heading level0 row6\" >75%</th>\n",
       "      <td id=\"T_54b25_row6_col0\" class=\"data row6 col0\" >9.20</td>\n",
       "      <td id=\"T_54b25_row6_col1\" class=\"data row6 col1\" >0.64</td>\n",
       "      <td id=\"T_54b25_row6_col2\" class=\"data row6 col2\" >0.42</td>\n",
       "      <td id=\"T_54b25_row6_col3\" class=\"data row6 col3\" >2.60</td>\n",
       "      <td id=\"T_54b25_row6_col4\" class=\"data row6 col4\" >0.09</td>\n",
       "      <td id=\"T_54b25_row6_col5\" class=\"data row6 col5\" >21.00</td>\n",
       "      <td id=\"T_54b25_row6_col6\" class=\"data row6 col6\" >63.00</td>\n",
       "      <td id=\"T_54b25_row6_col7\" class=\"data row6 col7\" >1.00</td>\n",
       "      <td id=\"T_54b25_row6_col8\" class=\"data row6 col8\" >3.41</td>\n",
       "      <td id=\"T_54b25_row6_col9\" class=\"data row6 col9\" >0.73</td>\n",
       "      <td id=\"T_54b25_row6_col10\" class=\"data row6 col10\" >11.10</td>\n",
       "    </tr>\n",
       "    <tr>\n",
       "      <th id=\"T_54b25_level0_row7\" class=\"row_heading level0 row7\" >max</th>\n",
       "      <td id=\"T_54b25_row7_col0\" class=\"data row7 col0\" >15.90</td>\n",
       "      <td id=\"T_54b25_row7_col1\" class=\"data row7 col1\" >1.33</td>\n",
       "      <td id=\"T_54b25_row7_col2\" class=\"data row7 col2\" >1.00</td>\n",
       "      <td id=\"T_54b25_row7_col3\" class=\"data row7 col3\" >15.50</td>\n",
       "      <td id=\"T_54b25_row7_col4\" class=\"data row7 col4\" >0.61</td>\n",
       "      <td id=\"T_54b25_row7_col5\" class=\"data row7 col5\" >72.00</td>\n",
       "      <td id=\"T_54b25_row7_col6\" class=\"data row7 col6\" >289.00</td>\n",
       "      <td id=\"T_54b25_row7_col7\" class=\"data row7 col7\" >1.00</td>\n",
       "      <td id=\"T_54b25_row7_col8\" class=\"data row7 col8\" >3.85</td>\n",
       "      <td id=\"T_54b25_row7_col9\" class=\"data row7 col9\" >2.00</td>\n",
       "      <td id=\"T_54b25_row7_col10\" class=\"data row7 col10\" >14.90</td>\n",
       "    </tr>\n",
       "  </tbody>\n",
       "</table>\n"
      ],
      "text/plain": [
       "<pandas.io.formats.style.Styler at 0x7fe7c2ee5ac0>"
      ]
     },
     "metadata": {},
     "output_type": "display_data"
    },
    {
     "data": {
      "text/html": [
       "<style type=\"text/css\">\n",
       "</style>\n",
       "<table id=\"T_4f93c\">\n",
       "  <caption>After normalization :</caption>\n",
       "  <thead>\n",
       "    <tr>\n",
       "      <th class=\"blank level0\" >&nbsp;</th>\n",
       "      <th id=\"T_4f93c_level0_col0\" class=\"col_heading level0 col0\" >fixed acidity</th>\n",
       "      <th id=\"T_4f93c_level0_col1\" class=\"col_heading level0 col1\" >volatile acidity</th>\n",
       "      <th id=\"T_4f93c_level0_col2\" class=\"col_heading level0 col2\" >citric acid</th>\n",
       "      <th id=\"T_4f93c_level0_col3\" class=\"col_heading level0 col3\" >residual sugar</th>\n",
       "      <th id=\"T_4f93c_level0_col4\" class=\"col_heading level0 col4\" >chlorides</th>\n",
       "      <th id=\"T_4f93c_level0_col5\" class=\"col_heading level0 col5\" >free sulfur dioxide</th>\n",
       "      <th id=\"T_4f93c_level0_col6\" class=\"col_heading level0 col6\" >total sulfur dioxide</th>\n",
       "      <th id=\"T_4f93c_level0_col7\" class=\"col_heading level0 col7\" >density</th>\n",
       "      <th id=\"T_4f93c_level0_col8\" class=\"col_heading level0 col8\" >pH</th>\n",
       "      <th id=\"T_4f93c_level0_col9\" class=\"col_heading level0 col9\" >sulphates</th>\n",
       "      <th id=\"T_4f93c_level0_col10\" class=\"col_heading level0 col10\" >alcohol</th>\n",
       "    </tr>\n",
       "  </thead>\n",
       "  <tbody>\n",
       "    <tr>\n",
       "      <th id=\"T_4f93c_level0_row0\" class=\"row_heading level0 row0\" >count</th>\n",
       "      <td id=\"T_4f93c_row0_col0\" class=\"data row0 col0\" >1279.00</td>\n",
       "      <td id=\"T_4f93c_row0_col1\" class=\"data row0 col1\" >1279.00</td>\n",
       "      <td id=\"T_4f93c_row0_col2\" class=\"data row0 col2\" >1279.00</td>\n",
       "      <td id=\"T_4f93c_row0_col3\" class=\"data row0 col3\" >1279.00</td>\n",
       "      <td id=\"T_4f93c_row0_col4\" class=\"data row0 col4\" >1279.00</td>\n",
       "      <td id=\"T_4f93c_row0_col5\" class=\"data row0 col5\" >1279.00</td>\n",
       "      <td id=\"T_4f93c_row0_col6\" class=\"data row0 col6\" >1279.00</td>\n",
       "      <td id=\"T_4f93c_row0_col7\" class=\"data row0 col7\" >1279.00</td>\n",
       "      <td id=\"T_4f93c_row0_col8\" class=\"data row0 col8\" >1279.00</td>\n",
       "      <td id=\"T_4f93c_row0_col9\" class=\"data row0 col9\" >1279.00</td>\n",
       "      <td id=\"T_4f93c_row0_col10\" class=\"data row0 col10\" >1279.00</td>\n",
       "    </tr>\n",
       "    <tr>\n",
       "      <th id=\"T_4f93c_level0_row1\" class=\"row_heading level0 row1\" >mean</th>\n",
       "      <td id=\"T_4f93c_row1_col0\" class=\"data row1 col0\" >-0.00</td>\n",
       "      <td id=\"T_4f93c_row1_col1\" class=\"data row1 col1\" >0.00</td>\n",
       "      <td id=\"T_4f93c_row1_col2\" class=\"data row1 col2\" >0.00</td>\n",
       "      <td id=\"T_4f93c_row1_col3\" class=\"data row1 col3\" >-0.00</td>\n",
       "      <td id=\"T_4f93c_row1_col4\" class=\"data row1 col4\" >0.00</td>\n",
       "      <td id=\"T_4f93c_row1_col5\" class=\"data row1 col5\" >-0.00</td>\n",
       "      <td id=\"T_4f93c_row1_col6\" class=\"data row1 col6\" >-0.00</td>\n",
       "      <td id=\"T_4f93c_row1_col7\" class=\"data row1 col7\" >0.00</td>\n",
       "      <td id=\"T_4f93c_row1_col8\" class=\"data row1 col8\" >-0.00</td>\n",
       "      <td id=\"T_4f93c_row1_col9\" class=\"data row1 col9\" >0.00</td>\n",
       "      <td id=\"T_4f93c_row1_col10\" class=\"data row1 col10\" >0.00</td>\n",
       "    </tr>\n",
       "    <tr>\n",
       "      <th id=\"T_4f93c_level0_row2\" class=\"row_heading level0 row2\" >std</th>\n",
       "      <td id=\"T_4f93c_row2_col0\" class=\"data row2 col0\" >1.00</td>\n",
       "      <td id=\"T_4f93c_row2_col1\" class=\"data row2 col1\" >1.00</td>\n",
       "      <td id=\"T_4f93c_row2_col2\" class=\"data row2 col2\" >1.00</td>\n",
       "      <td id=\"T_4f93c_row2_col3\" class=\"data row2 col3\" >1.00</td>\n",
       "      <td id=\"T_4f93c_row2_col4\" class=\"data row2 col4\" >1.00</td>\n",
       "      <td id=\"T_4f93c_row2_col5\" class=\"data row2 col5\" >1.00</td>\n",
       "      <td id=\"T_4f93c_row2_col6\" class=\"data row2 col6\" >1.00</td>\n",
       "      <td id=\"T_4f93c_row2_col7\" class=\"data row2 col7\" >1.00</td>\n",
       "      <td id=\"T_4f93c_row2_col8\" class=\"data row2 col8\" >1.00</td>\n",
       "      <td id=\"T_4f93c_row2_col9\" class=\"data row2 col9\" >1.00</td>\n",
       "      <td id=\"T_4f93c_row2_col10\" class=\"data row2 col10\" >1.00</td>\n",
       "    </tr>\n",
       "    <tr>\n",
       "      <th id=\"T_4f93c_level0_row3\" class=\"row_heading level0 row3\" >min</th>\n",
       "      <td id=\"T_4f93c_row3_col0\" class=\"data row3 col0\" >-2.06</td>\n",
       "      <td id=\"T_4f93c_row3_col1\" class=\"data row3 col1\" >-2.28</td>\n",
       "      <td id=\"T_4f93c_row3_col2\" class=\"data row3 col2\" >-1.39</td>\n",
       "      <td id=\"T_4f93c_row3_col3\" class=\"data row3 col3\" >-1.12</td>\n",
       "      <td id=\"T_4f93c_row3_col4\" class=\"data row3 col4\" >-1.69</td>\n",
       "      <td id=\"T_4f93c_row3_col5\" class=\"data row3 col5\" >-1.44</td>\n",
       "      <td id=\"T_4f93c_row3_col6\" class=\"data row3 col6\" >-1.22</td>\n",
       "      <td id=\"T_4f93c_row3_col7\" class=\"data row3 col7\" >-3.56</td>\n",
       "      <td id=\"T_4f93c_row3_col8\" class=\"data row3 col8\" >-3.74</td>\n",
       "      <td id=\"T_4f93c_row3_col9\" class=\"data row3 col9\" >-1.70</td>\n",
       "      <td id=\"T_4f93c_row3_col10\" class=\"data row3 col10\" >-1.92</td>\n",
       "    </tr>\n",
       "    <tr>\n",
       "      <th id=\"T_4f93c_level0_row4\" class=\"row_heading level0 row4\" >25%</th>\n",
       "      <td id=\"T_4f93c_row4_col0\" class=\"data row4 col0\" >-0.69</td>\n",
       "      <td id=\"T_4f93c_row4_col1\" class=\"data row4 col1\" >-0.77</td>\n",
       "      <td id=\"T_4f93c_row4_col2\" class=\"data row4 col2\" >-0.88</td>\n",
       "      <td id=\"T_4f93c_row4_col3\" class=\"data row4 col3\" >-0.45</td>\n",
       "      <td id=\"T_4f93c_row4_col4\" class=\"data row4 col4\" >-0.36</td>\n",
       "      <td id=\"T_4f93c_row4_col5\" class=\"data row4 col5\" >-0.86</td>\n",
       "      <td id=\"T_4f93c_row4_col6\" class=\"data row4 col6\" >-0.74</td>\n",
       "      <td id=\"T_4f93c_row4_col7\" class=\"data row4 col7\" >-0.62</td>\n",
       "      <td id=\"T_4f93c_row4_col8\" class=\"data row4 col8\" >-0.67</td>\n",
       "      <td id=\"T_4f93c_row4_col9\" class=\"data row4 col9\" >-0.63</td>\n",
       "      <td id=\"T_4f93c_row4_col10\" class=\"data row4 col10\" >-0.88</td>\n",
       "    </tr>\n",
       "    <tr>\n",
       "      <th id=\"T_4f93c_level0_row5\" class=\"row_heading level0 row5\" >50%</th>\n",
       "      <td id=\"T_4f93c_row5_col0\" class=\"data row5 col0\" >-0.24</td>\n",
       "      <td id=\"T_4f93c_row5_col1\" class=\"data row5 col1\" >-0.05</td>\n",
       "      <td id=\"T_4f93c_row5_col2\" class=\"data row5 col2\" >-0.05</td>\n",
       "      <td id=\"T_4f93c_row5_col3\" class=\"data row5 col3\" >-0.25</td>\n",
       "      <td id=\"T_4f93c_row5_col4\" class=\"data row5 col4\" >-0.16</td>\n",
       "      <td id=\"T_4f93c_row5_col5\" class=\"data row5 col5\" >-0.18</td>\n",
       "      <td id=\"T_4f93c_row5_col6\" class=\"data row5 col6\" >-0.29</td>\n",
       "      <td id=\"T_4f93c_row5_col7\" class=\"data row5 col7\" >-0.01</td>\n",
       "      <td id=\"T_4f93c_row5_col8\" class=\"data row5 col8\" >0.04</td>\n",
       "      <td id=\"T_4f93c_row5_col9\" class=\"data row5 col9\" >-0.21</td>\n",
       "      <td id=\"T_4f93c_row5_col10\" class=\"data row5 col10\" >-0.21</td>\n",
       "    </tr>\n",
       "    <tr>\n",
       "      <th id=\"T_4f93c_level0_row6\" class=\"row_heading level0 row6\" >75%</th>\n",
       "      <td id=\"T_4f93c_row6_col0\" class=\"data row6 col0\" >0.50</td>\n",
       "      <td id=\"T_4f93c_row6_col1\" class=\"data row6 col1\" >0.63</td>\n",
       "      <td id=\"T_4f93c_row6_col2\" class=\"data row6 col2\" >0.77</td>\n",
       "      <td id=\"T_4f93c_row6_col3\" class=\"data row6 col3\" >0.02</td>\n",
       "      <td id=\"T_4f93c_row6_col4\" class=\"data row6 col4\" >0.07</td>\n",
       "      <td id=\"T_4f93c_row6_col5\" class=\"data row6 col5\" >0.50</td>\n",
       "      <td id=\"T_4f93c_row6_col6\" class=\"data row6 col6\" >0.49</td>\n",
       "      <td id=\"T_4f93c_row6_col7\" class=\"data row6 col7\" >0.59</td>\n",
       "      <td id=\"T_4f93c_row6_col8\" class=\"data row6 col8\" >0.60</td>\n",
       "      <td id=\"T_4f93c_row6_col9\" class=\"data row6 col9\" >0.44</td>\n",
       "      <td id=\"T_4f93c_row6_col10\" class=\"data row6 col10\" >0.64</td>\n",
       "    </tr>\n",
       "    <tr>\n",
       "      <th id=\"T_4f93c_level0_row7\" class=\"row_heading level0 row7\" >max</th>\n",
       "      <td id=\"T_4f93c_row7_col0\" class=\"data row7 col0\" >4.31</td>\n",
       "      <td id=\"T_4f93c_row7_col1\" class=\"data row7 col1\" >4.48</td>\n",
       "      <td id=\"T_4f93c_row7_col2\" class=\"data row7 col2\" >3.76</td>\n",
       "      <td id=\"T_4f93c_row7_col3\" class=\"data row7 col3\" >8.67</td>\n",
       "      <td id=\"T_4f93c_row7_col4\" class=\"data row7 col4\" >11.83</td>\n",
       "      <td id=\"T_4f93c_row7_col5\" class=\"data row7 col5\" >5.43</td>\n",
       "      <td id=\"T_4f93c_row7_col6\" class=\"data row7 col6\" >7.29</td>\n",
       "      <td id=\"T_4f93c_row7_col7\" class=\"data row7 col7\" >3.67</td>\n",
       "      <td id=\"T_4f93c_row7_col8\" class=\"data row7 col8\" >3.50</td>\n",
       "      <td id=\"T_4f93c_row7_col9\" class=\"data row7 col9\" >8.00</td>\n",
       "      <td id=\"T_4f93c_row7_col10\" class=\"data row7 col10\" >4.24</td>\n",
       "    </tr>\n",
       "  </tbody>\n",
       "</table>\n"
      ],
      "text/plain": [
       "<pandas.io.formats.style.Styler at 0x7fe7c3728400>"
      ]
     },
     "metadata": {},
     "output_type": "display_data"
    }
   ],
   "source": [
    "display(x_train.describe().style.format(\"{0:.2f}\").set_caption(\"Before normalization :\"))\n",
    "\n",
    "mean = x_train.mean()\n",
    "std  = x_train.std()\n",
    "x_train = (x_train - mean) / std\n",
    "x_test  = (x_test  - mean) / std\n",
    "\n",
    "display(x_train.describe().style.format(\"{0:.2f}\").set_caption(\"After normalization :\"))\n",
    "\n",
    "# Convert ou DataFrame to numpy array\n",
    "x_train, y_train = np.array(x_train), np.array(y_train)\n",
    "x_test,  y_test  = np.array(x_test),  np.array(y_test)\n"
   ]
  },
  {
   "cell_type": "markdown",
   "id": "98ed4e5a",
   "metadata": {},
   "source": [
    "Build a Neural Network model for Regression with Keras, with an Input, 2 hidden Dense linear layers and a single output for wine quality. The model in Keras includes a compiler to determine the optimiser type, the loss and the metrics used. "
   ]
  },
  {
   "cell_type": "code",
   "execution_count": 25,
   "id": "f44ee020",
   "metadata": {},
   "outputs": [],
   "source": [
    "def get_model_v1(shape):\n",
    "    #\n",
    "    model = keras.models.Sequential()\n",
    "    model.add(keras.layers.Input(shape, name=\"InputLayer\"))\n",
    "    model.add(keras.layers.Dense(64, activation='relu', name='Dense_n1'))\n",
    "    model.add(keras.layers.Dense(64, activation='relu', name='Dense_n2'))\n",
    "    model.add(keras.layers.Dense(1, name='Output'))\n",
    "    #\n",
    "    model.compile(optimizer = keras.optimizers.SGD(learning_rate=0.001),\n",
    "                loss      = 'mse',\n",
    "                metrics   = ['mae', 'mse'] )\n",
    "    return model"
   ]
  },
  {
   "cell_type": "code",
   "execution_count": 26,
   "id": "dd795648",
   "metadata": {},
   "outputs": [
    {
     "name": "stdout",
     "output_type": "stream",
     "text": [
      "Model: \"sequential_4\"\n",
      "_________________________________________________________________\n",
      " Layer (type)                Output Shape              Param #   \n",
      "=================================================================\n",
      " Dense_n1 (Dense)            (None, 64)                768       \n",
      "                                                                 \n",
      " Dense_n2 (Dense)            (None, 64)                4160      \n",
      "                                                                 \n",
      " Output (Dense)              (None, 1)                 65        \n",
      "                                                                 \n",
      "=================================================================\n",
      "Total params: 4,993\n",
      "Trainable params: 4,993\n",
      "Non-trainable params: 0\n",
      "_________________________________________________________________\n"
     ]
    }
   ],
   "source": [
    "model=get_model_v1( (11,) )\n",
    "\n",
    "model.summary()"
   ]
  },
  {
   "cell_type": "markdown",
   "id": "f507ce51",
   "metadata": {},
   "source": [
    "Train the model. Keras allows for simplicity. In the model.fit command one is asked to determine the No. epochs, batch_size and the validation data."
   ]
  },
  {
   "cell_type": "code",
   "execution_count": 27,
   "id": "46a8c5a6",
   "metadata": {},
   "outputs": [
    {
     "name": "stdout",
     "output_type": "stream",
     "text": [
      "Epoch 1/100\n",
      "128/128 [==============================] - 1s 2ms/step - loss: 10.7973 - mae: 2.7783 - mse: 10.7973 - val_loss: 2.4577 - val_mae: 1.2619 - val_mse: 2.4577\n",
      "Epoch 2/100\n",
      "128/128 [==============================] - 0s 2ms/step - loss: 1.7512 - mae: 1.0144 - mse: 1.7512 - val_loss: 1.5470 - val_mae: 0.9672 - val_mse: 1.5470\n",
      "Epoch 3/100\n",
      "128/128 [==============================] - 0s 2ms/step - loss: 1.2578 - mae: 0.8671 - mse: 1.2578 - val_loss: 1.2736 - val_mae: 0.8727 - val_mse: 1.2736\n",
      "Epoch 4/100\n",
      "128/128 [==============================] - 0s 2ms/step - loss: 1.0680 - mae: 0.7953 - mse: 1.0680 - val_loss: 1.1152 - val_mae: 0.8253 - val_mse: 1.1152\n",
      "Epoch 5/100\n",
      "128/128 [==============================] - 0s 2ms/step - loss: 0.9427 - mae: 0.7520 - mse: 0.9427 - val_loss: 1.0128 - val_mae: 0.7818 - val_mse: 1.0128\n",
      "Epoch 6/100\n",
      "128/128 [==============================] - 0s 2ms/step - loss: 0.8558 - mae: 0.7159 - mse: 0.8558 - val_loss: 0.9334 - val_mae: 0.7503 - val_mse: 0.9334\n",
      "Epoch 7/100\n",
      "128/128 [==============================] - 0s 2ms/step - loss: 0.7852 - mae: 0.6852 - mse: 0.7852 - val_loss: 0.8862 - val_mae: 0.7292 - val_mse: 0.8862\n",
      "Epoch 8/100\n",
      "128/128 [==============================] - 0s 2ms/step - loss: 0.7329 - mae: 0.6647 - mse: 0.7329 - val_loss: 0.8254 - val_mae: 0.7021 - val_mse: 0.8254\n",
      "Epoch 9/100\n",
      "128/128 [==============================] - 0s 2ms/step - loss: 0.6857 - mae: 0.6429 - mse: 0.6857 - val_loss: 0.7802 - val_mae: 0.6839 - val_mse: 0.7802\n",
      "Epoch 10/100\n",
      "128/128 [==============================] - 0s 2ms/step - loss: 0.6471 - mae: 0.6235 - mse: 0.6471 - val_loss: 0.7455 - val_mae: 0.6678 - val_mse: 0.7455\n",
      "Epoch 11/100\n",
      "128/128 [==============================] - 0s 2ms/step - loss: 0.6148 - mae: 0.6093 - mse: 0.6148 - val_loss: 0.7112 - val_mae: 0.6514 - val_mse: 0.7112\n",
      "Epoch 12/100\n",
      "128/128 [==============================] - 0s 2ms/step - loss: 0.5874 - mae: 0.5954 - mse: 0.5874 - val_loss: 0.6816 - val_mae: 0.6385 - val_mse: 0.6816\n",
      "Epoch 13/100\n",
      "128/128 [==============================] - 0s 2ms/step - loss: 0.5643 - mae: 0.5851 - mse: 0.5643 - val_loss: 0.6625 - val_mae: 0.6276 - val_mse: 0.6625\n",
      "Epoch 14/100\n",
      "128/128 [==============================] - 0s 2ms/step - loss: 0.5423 - mae: 0.5719 - mse: 0.5423 - val_loss: 0.6490 - val_mae: 0.6215 - val_mse: 0.6490\n",
      "Epoch 15/100\n",
      "128/128 [==============================] - 0s 2ms/step - loss: 0.5251 - mae: 0.5647 - mse: 0.5251 - val_loss: 0.6380 - val_mae: 0.6151 - val_mse: 0.6380\n",
      "Epoch 16/100\n",
      "128/128 [==============================] - 0s 2ms/step - loss: 0.5084 - mae: 0.5559 - mse: 0.5084 - val_loss: 0.6135 - val_mae: 0.6034 - val_mse: 0.6135\n",
      "Epoch 17/100\n",
      "128/128 [==============================] - 0s 2ms/step - loss: 0.4958 - mae: 0.5484 - mse: 0.4958 - val_loss: 0.5967 - val_mae: 0.5957 - val_mse: 0.5967\n",
      "Epoch 18/100\n",
      "128/128 [==============================] - 0s 2ms/step - loss: 0.4827 - mae: 0.5429 - mse: 0.4827 - val_loss: 0.5852 - val_mae: 0.5886 - val_mse: 0.5852\n",
      "Epoch 19/100\n",
      "128/128 [==============================] - 0s 2ms/step - loss: 0.4724 - mae: 0.5360 - mse: 0.4724 - val_loss: 0.5714 - val_mae: 0.5852 - val_mse: 0.5714\n",
      "Epoch 20/100\n",
      "128/128 [==============================] - 0s 2ms/step - loss: 0.4613 - mae: 0.5302 - mse: 0.4613 - val_loss: 0.5675 - val_mae: 0.5811 - val_mse: 0.5675\n",
      "Epoch 21/100\n",
      "128/128 [==============================] - 0s 2ms/step - loss: 0.4529 - mae: 0.5272 - mse: 0.4529 - val_loss: 0.5533 - val_mae: 0.5749 - val_mse: 0.5533\n",
      "Epoch 22/100\n",
      "128/128 [==============================] - 0s 2ms/step - loss: 0.4457 - mae: 0.5219 - mse: 0.4457 - val_loss: 0.5491 - val_mae: 0.5706 - val_mse: 0.5491\n",
      "Epoch 23/100\n",
      "128/128 [==============================] - 0s 2ms/step - loss: 0.4384 - mae: 0.5184 - mse: 0.4384 - val_loss: 0.5417 - val_mae: 0.5672 - val_mse: 0.5417\n",
      "Epoch 24/100\n",
      "128/128 [==============================] - 0s 2ms/step - loss: 0.4288 - mae: 0.5135 - mse: 0.4288 - val_loss: 0.5321 - val_mae: 0.5636 - val_mse: 0.5321\n",
      "Epoch 25/100\n",
      "128/128 [==============================] - 0s 2ms/step - loss: 0.4248 - mae: 0.5114 - mse: 0.4248 - val_loss: 0.5256 - val_mae: 0.5591 - val_mse: 0.5256\n",
      "Epoch 26/100\n",
      "128/128 [==============================] - 0s 2ms/step - loss: 0.4189 - mae: 0.5068 - mse: 0.4189 - val_loss: 0.5216 - val_mae: 0.5558 - val_mse: 0.5216\n",
      "Epoch 27/100\n",
      "128/128 [==============================] - 0s 2ms/step - loss: 0.4145 - mae: 0.5031 - mse: 0.4145 - val_loss: 0.5197 - val_mae: 0.5556 - val_mse: 0.5197\n",
      "Epoch 28/100\n",
      "128/128 [==============================] - 0s 2ms/step - loss: 0.4091 - mae: 0.5013 - mse: 0.4091 - val_loss: 0.5116 - val_mae: 0.5530 - val_mse: 0.5116\n",
      "Epoch 29/100\n",
      "128/128 [==============================] - 0s 2ms/step - loss: 0.4051 - mae: 0.4991 - mse: 0.4051 - val_loss: 0.5083 - val_mae: 0.5515 - val_mse: 0.5083\n",
      "Epoch 30/100\n",
      "128/128 [==============================] - 0s 2ms/step - loss: 0.4011 - mae: 0.4968 - mse: 0.4011 - val_loss: 0.5059 - val_mae: 0.5477 - val_mse: 0.5059\n",
      "Epoch 31/100\n",
      "128/128 [==============================] - 0s 2ms/step - loss: 0.3972 - mae: 0.4941 - mse: 0.3972 - val_loss: 0.4986 - val_mae: 0.5472 - val_mse: 0.4986\n",
      "Epoch 32/100\n",
      "128/128 [==============================] - 0s 2ms/step - loss: 0.3934 - mae: 0.4910 - mse: 0.3934 - val_loss: 0.4994 - val_mae: 0.5436 - val_mse: 0.4994\n",
      "Epoch 33/100\n",
      "128/128 [==============================] - 0s 2ms/step - loss: 0.3898 - mae: 0.4886 - mse: 0.3898 - val_loss: 0.4908 - val_mae: 0.5434 - val_mse: 0.4908\n",
      "Epoch 34/100\n",
      "128/128 [==============================] - 0s 2ms/step - loss: 0.3873 - mae: 0.4886 - mse: 0.3873 - val_loss: 0.4902 - val_mae: 0.5416 - val_mse: 0.4902\n",
      "Epoch 35/100\n",
      "128/128 [==============================] - 0s 2ms/step - loss: 0.3844 - mae: 0.4859 - mse: 0.3844 - val_loss: 0.4869 - val_mae: 0.5412 - val_mse: 0.4869\n",
      "Epoch 36/100\n",
      "128/128 [==============================] - 0s 2ms/step - loss: 0.3825 - mae: 0.4855 - mse: 0.3825 - val_loss: 0.4845 - val_mae: 0.5388 - val_mse: 0.4845\n",
      "Epoch 37/100\n",
      "128/128 [==============================] - 0s 2ms/step - loss: 0.3781 - mae: 0.4817 - mse: 0.3781 - val_loss: 0.4835 - val_mae: 0.5384 - val_mse: 0.4835\n",
      "Epoch 38/100\n",
      "128/128 [==============================] - 0s 2ms/step - loss: 0.3757 - mae: 0.4822 - mse: 0.3757 - val_loss: 0.4926 - val_mae: 0.5398 - val_mse: 0.4926\n",
      "Epoch 39/100\n",
      "128/128 [==============================] - 0s 2ms/step - loss: 0.3743 - mae: 0.4808 - mse: 0.3743 - val_loss: 0.4813 - val_mae: 0.5360 - val_mse: 0.4813\n",
      "Epoch 40/100\n",
      "128/128 [==============================] - 0s 2ms/step - loss: 0.3716 - mae: 0.4780 - mse: 0.3716 - val_loss: 0.4823 - val_mae: 0.5348 - val_mse: 0.4823\n",
      "Epoch 41/100\n",
      "128/128 [==============================] - 0s 2ms/step - loss: 0.3692 - mae: 0.4768 - mse: 0.3692 - val_loss: 0.4799 - val_mae: 0.5339 - val_mse: 0.4799\n",
      "Epoch 42/100\n",
      "128/128 [==============================] - 0s 2ms/step - loss: 0.3683 - mae: 0.4753 - mse: 0.3683 - val_loss: 0.4717 - val_mae: 0.5352 - val_mse: 0.4717\n",
      "Epoch 43/100\n",
      "128/128 [==============================] - 0s 2ms/step - loss: 0.3659 - mae: 0.4739 - mse: 0.3659 - val_loss: 0.4702 - val_mae: 0.5356 - val_mse: 0.4702\n",
      "Epoch 44/100\n",
      "128/128 [==============================] - 0s 2ms/step - loss: 0.3638 - mae: 0.4736 - mse: 0.3638 - val_loss: 0.4796 - val_mae: 0.5331 - val_mse: 0.4796\n",
      "Epoch 45/100\n",
      "128/128 [==============================] - 0s 2ms/step - loss: 0.3636 - mae: 0.4736 - mse: 0.3636 - val_loss: 0.4666 - val_mae: 0.5310 - val_mse: 0.4666\n",
      "Epoch 46/100\n",
      "128/128 [==============================] - 0s 2ms/step - loss: 0.3610 - mae: 0.4711 - mse: 0.3610 - val_loss: 0.4634 - val_mae: 0.5297 - val_mse: 0.4634\n",
      "Epoch 47/100\n",
      "128/128 [==============================] - 0s 2ms/step - loss: 0.3594 - mae: 0.4726 - mse: 0.3594 - val_loss: 0.4676 - val_mae: 0.5286 - val_mse: 0.4676\n",
      "Epoch 48/100\n",
      "128/128 [==============================] - 0s 2ms/step - loss: 0.3582 - mae: 0.4694 - mse: 0.3582 - val_loss: 0.4652 - val_mae: 0.5272 - val_mse: 0.4652\n",
      "Epoch 49/100\n",
      "128/128 [==============================] - 0s 2ms/step - loss: 0.3572 - mae: 0.4686 - mse: 0.3572 - val_loss: 0.4638 - val_mae: 0.5282 - val_mse: 0.4638\n",
      "Epoch 50/100\n",
      "128/128 [==============================] - 0s 2ms/step - loss: 0.3537 - mae: 0.4657 - mse: 0.3537 - val_loss: 0.4639 - val_mae: 0.5290 - val_mse: 0.4639\n",
      "Epoch 51/100\n",
      "128/128 [==============================] - 0s 2ms/step - loss: 0.3554 - mae: 0.4681 - mse: 0.3554 - val_loss: 0.4557 - val_mae: 0.5273 - val_mse: 0.4557\n",
      "Epoch 52/100\n",
      "128/128 [==============================] - 0s 2ms/step - loss: 0.3535 - mae: 0.4658 - mse: 0.3535 - val_loss: 0.4571 - val_mae: 0.5268 - val_mse: 0.4571\n",
      "Epoch 53/100\n",
      "128/128 [==============================] - 0s 2ms/step - loss: 0.3516 - mae: 0.4653 - mse: 0.3516 - val_loss: 0.4542 - val_mae: 0.5277 - val_mse: 0.4542\n",
      "Epoch 54/100\n",
      "128/128 [==============================] - 0s 2ms/step - loss: 0.3517 - mae: 0.4675 - mse: 0.3517 - val_loss: 0.4595 - val_mae: 0.5256 - val_mse: 0.4595\n",
      "Epoch 55/100\n",
      "128/128 [==============================] - 0s 2ms/step - loss: 0.3501 - mae: 0.4653 - mse: 0.3501 - val_loss: 0.4549 - val_mae: 0.5253 - val_mse: 0.4549\n",
      "Epoch 56/100\n",
      "128/128 [==============================] - 0s 2ms/step - loss: 0.3491 - mae: 0.4626 - mse: 0.3491 - val_loss: 0.4562 - val_mae: 0.5259 - val_mse: 0.4562\n",
      "Epoch 57/100\n",
      "128/128 [==============================] - 0s 2ms/step - loss: 0.3476 - mae: 0.4639 - mse: 0.3476 - val_loss: 0.4521 - val_mae: 0.5246 - val_mse: 0.4521\n",
      "Epoch 58/100\n",
      "128/128 [==============================] - 0s 2ms/step - loss: 0.3468 - mae: 0.4616 - mse: 0.3468 - val_loss: 0.4528 - val_mae: 0.5240 - val_mse: 0.4528\n",
      "Epoch 59/100\n",
      "128/128 [==============================] - 0s 2ms/step - loss: 0.3462 - mae: 0.4610 - mse: 0.3462 - val_loss: 0.4556 - val_mae: 0.5244 - val_mse: 0.4556\n",
      "Epoch 60/100\n",
      "128/128 [==============================] - 0s 2ms/step - loss: 0.3438 - mae: 0.4602 - mse: 0.3438 - val_loss: 0.4514 - val_mae: 0.5230 - val_mse: 0.4514\n",
      "Epoch 61/100\n",
      "128/128 [==============================] - 0s 2ms/step - loss: 0.3432 - mae: 0.4602 - mse: 0.3432 - val_loss: 0.4506 - val_mae: 0.5206 - val_mse: 0.4506\n",
      "Epoch 62/100\n",
      "128/128 [==============================] - 0s 2ms/step - loss: 0.3427 - mae: 0.4579 - mse: 0.3427 - val_loss: 0.4479 - val_mae: 0.5236 - val_mse: 0.4479\n",
      "Epoch 63/100\n",
      "128/128 [==============================] - 0s 2ms/step - loss: 0.3417 - mae: 0.4592 - mse: 0.3417 - val_loss: 0.4575 - val_mae: 0.5223 - val_mse: 0.4575\n",
      "Epoch 64/100\n",
      "128/128 [==============================] - 0s 2ms/step - loss: 0.3416 - mae: 0.4584 - mse: 0.3416 - val_loss: 0.4502 - val_mae: 0.5203 - val_mse: 0.4502\n",
      "Epoch 65/100\n",
      "128/128 [==============================] - 0s 2ms/step - loss: 0.3399 - mae: 0.4566 - mse: 0.3399 - val_loss: 0.4455 - val_mae: 0.5229 - val_mse: 0.4455\n",
      "Epoch 66/100\n",
      "128/128 [==============================] - 0s 2ms/step - loss: 0.3392 - mae: 0.4575 - mse: 0.3392 - val_loss: 0.4475 - val_mae: 0.5224 - val_mse: 0.4475\n",
      "Epoch 67/100\n",
      "128/128 [==============================] - 0s 2ms/step - loss: 0.3386 - mae: 0.4569 - mse: 0.3386 - val_loss: 0.4481 - val_mae: 0.5200 - val_mse: 0.4481\n",
      "Epoch 68/100\n",
      "128/128 [==============================] - 0s 1ms/step - loss: 0.3374 - mae: 0.4544 - mse: 0.3374 - val_loss: 0.4456 - val_mae: 0.5224 - val_mse: 0.4456\n",
      "Epoch 69/100\n",
      "128/128 [==============================] - 0s 2ms/step - loss: 0.3362 - mae: 0.4557 - mse: 0.3362 - val_loss: 0.4443 - val_mae: 0.5198 - val_mse: 0.4443\n",
      "Epoch 70/100\n",
      "128/128 [==============================] - 0s 2ms/step - loss: 0.3361 - mae: 0.4539 - mse: 0.3361 - val_loss: 0.4448 - val_mae: 0.5210 - val_mse: 0.4448\n",
      "Epoch 71/100\n",
      "128/128 [==============================] - 0s 2ms/step - loss: 0.3348 - mae: 0.4537 - mse: 0.3348 - val_loss: 0.4444 - val_mae: 0.5180 - val_mse: 0.4444\n",
      "Epoch 72/100\n",
      "128/128 [==============================] - 0s 2ms/step - loss: 0.3336 - mae: 0.4514 - mse: 0.3336 - val_loss: 0.4458 - val_mae: 0.5212 - val_mse: 0.4458\n",
      "Epoch 73/100\n",
      "128/128 [==============================] - 0s 2ms/step - loss: 0.3333 - mae: 0.4525 - mse: 0.3333 - val_loss: 0.4437 - val_mae: 0.5207 - val_mse: 0.4437\n",
      "Epoch 74/100\n",
      "128/128 [==============================] - 0s 2ms/step - loss: 0.3327 - mae: 0.4522 - mse: 0.3327 - val_loss: 0.4476 - val_mae: 0.5179 - val_mse: 0.4476\n",
      "Epoch 75/100\n",
      "128/128 [==============================] - 0s 2ms/step - loss: 0.3316 - mae: 0.4505 - mse: 0.3316 - val_loss: 0.4547 - val_mae: 0.5203 - val_mse: 0.4547\n",
      "Epoch 76/100\n",
      "128/128 [==============================] - 0s 2ms/step - loss: 0.3316 - mae: 0.4510 - mse: 0.3316 - val_loss: 0.4443 - val_mae: 0.5182 - val_mse: 0.4443\n",
      "Epoch 77/100\n",
      "128/128 [==============================] - 0s 2ms/step - loss: 0.3306 - mae: 0.4510 - mse: 0.3306 - val_loss: 0.4436 - val_mae: 0.5183 - val_mse: 0.4436\n",
      "Epoch 78/100\n",
      "128/128 [==============================] - 0s 2ms/step - loss: 0.3290 - mae: 0.4497 - mse: 0.3290 - val_loss: 0.4514 - val_mae: 0.5173 - val_mse: 0.4514\n",
      "Epoch 79/100\n",
      "128/128 [==============================] - 0s 2ms/step - loss: 0.3294 - mae: 0.4500 - mse: 0.3294 - val_loss: 0.4430 - val_mae: 0.5166 - val_mse: 0.4430\n",
      "Epoch 80/100\n",
      "128/128 [==============================] - 0s 2ms/step - loss: 0.3285 - mae: 0.4486 - mse: 0.3285 - val_loss: 0.4441 - val_mae: 0.5183 - val_mse: 0.4441\n",
      "Epoch 81/100\n",
      "128/128 [==============================] - 0s 2ms/step - loss: 0.3269 - mae: 0.4467 - mse: 0.3269 - val_loss: 0.4450 - val_mae: 0.5174 - val_mse: 0.4450\n",
      "Epoch 82/100\n",
      "128/128 [==============================] - 0s 2ms/step - loss: 0.3273 - mae: 0.4495 - mse: 0.3273 - val_loss: 0.4430 - val_mae: 0.5163 - val_mse: 0.4430\n",
      "Epoch 83/100\n",
      "128/128 [==============================] - 0s 2ms/step - loss: 0.3258 - mae: 0.4481 - mse: 0.3258 - val_loss: 0.4439 - val_mae: 0.5155 - val_mse: 0.4439\n",
      "Epoch 84/100\n",
      "128/128 [==============================] - 0s 2ms/step - loss: 0.3244 - mae: 0.4451 - mse: 0.3244 - val_loss: 0.4448 - val_mae: 0.5156 - val_mse: 0.4448\n",
      "Epoch 85/100\n",
      "128/128 [==============================] - 0s 2ms/step - loss: 0.3248 - mae: 0.4456 - mse: 0.3248 - val_loss: 0.4476 - val_mae: 0.5166 - val_mse: 0.4476\n",
      "Epoch 86/100\n",
      "128/128 [==============================] - 0s 2ms/step - loss: 0.3239 - mae: 0.4435 - mse: 0.3239 - val_loss: 0.4394 - val_mae: 0.5172 - val_mse: 0.4394\n",
      "Epoch 87/100\n",
      "128/128 [==============================] - 0s 2ms/step - loss: 0.3229 - mae: 0.4448 - mse: 0.3229 - val_loss: 0.4368 - val_mae: 0.5169 - val_mse: 0.4368\n",
      "Epoch 88/100\n",
      "128/128 [==============================] - 0s 2ms/step - loss: 0.3234 - mae: 0.4459 - mse: 0.3234 - val_loss: 0.4411 - val_mae: 0.5153 - val_mse: 0.4411\n",
      "Epoch 89/100\n",
      "128/128 [==============================] - 0s 2ms/step - loss: 0.3219 - mae: 0.4431 - mse: 0.3219 - val_loss: 0.4392 - val_mae: 0.5161 - val_mse: 0.4392\n",
      "Epoch 90/100\n",
      "128/128 [==============================] - 0s 2ms/step - loss: 0.3222 - mae: 0.4434 - mse: 0.3222 - val_loss: 0.4443 - val_mae: 0.5171 - val_mse: 0.4443\n",
      "Epoch 91/100\n",
      "128/128 [==============================] - 0s 2ms/step - loss: 0.3212 - mae: 0.4441 - mse: 0.3212 - val_loss: 0.4419 - val_mae: 0.5161 - val_mse: 0.4419\n",
      "Epoch 92/100\n",
      "128/128 [==============================] - 0s 1ms/step - loss: 0.3205 - mae: 0.4426 - mse: 0.3205 - val_loss: 0.4443 - val_mae: 0.5159 - val_mse: 0.4443\n",
      "Epoch 93/100\n",
      "128/128 [==============================] - 0s 1ms/step - loss: 0.3193 - mae: 0.4420 - mse: 0.3193 - val_loss: 0.4422 - val_mae: 0.5148 - val_mse: 0.4422\n",
      "Epoch 94/100\n",
      "128/128 [==============================] - 0s 2ms/step - loss: 0.3178 - mae: 0.4421 - mse: 0.3178 - val_loss: 0.4511 - val_mae: 0.5177 - val_mse: 0.4511\n",
      "Epoch 95/100\n",
      "128/128 [==============================] - 0s 2ms/step - loss: 0.3191 - mae: 0.4405 - mse: 0.3191 - val_loss: 0.4458 - val_mae: 0.5173 - val_mse: 0.4458\n",
      "Epoch 96/100\n",
      "128/128 [==============================] - 0s 1ms/step - loss: 0.3179 - mae: 0.4421 - mse: 0.3179 - val_loss: 0.4375 - val_mae: 0.5151 - val_mse: 0.4375\n",
      "Epoch 97/100\n",
      "128/128 [==============================] - 0s 2ms/step - loss: 0.3174 - mae: 0.4412 - mse: 0.3174 - val_loss: 0.4467 - val_mae: 0.5165 - val_mse: 0.4467\n",
      "Epoch 98/100\n",
      "128/128 [==============================] - 0s 2ms/step - loss: 0.3179 - mae: 0.4410 - mse: 0.3179 - val_loss: 0.4391 - val_mae: 0.5145 - val_mse: 0.4391\n",
      "Epoch 99/100\n"
     ]
    },
    {
     "name": "stdout",
     "output_type": "stream",
     "text": [
      "128/128 [==============================] - 0s 2ms/step - loss: 0.3174 - mae: 0.4403 - mse: 0.3174 - val_loss: 0.4379 - val_mae: 0.5145 - val_mse: 0.4379\n",
      "Epoch 100/100\n",
      "128/128 [==============================] - 0s 2ms/step - loss: 0.3162 - mae: 0.4391 - mse: 0.3162 - val_loss: 0.4373 - val_mae: 0.5159 - val_mse: 0.4373\n"
     ]
    }
   ],
   "source": [
    "history = model.fit(x_train,\n",
    "                    y_train,\n",
    "                    epochs          = 100,\n",
    "                    batch_size      = 10,\n",
    "                    validation_data = (x_test, y_test))"
   ]
  },
  {
   "cell_type": "markdown",
   "id": "4d194a35",
   "metadata": {},
   "source": [
    "Evaluate the model"
   ]
  },
  {
   "cell_type": "code",
   "execution_count": 28,
   "id": "f4eba79d",
   "metadata": {},
   "outputs": [
    {
     "name": "stdout",
     "output_type": "stream",
     "text": [
      "10/10 [==============================] - 0s 2ms/step - loss: 0.4373 - mae: 0.5159 - mse: 0.4373\n",
      "x_test / loss      : 0.4373\n",
      "x_test / mae       : 0.5159\n",
      "x_test / mse       : 0.4373\n"
     ]
    }
   ],
   "source": [
    "score = model.evaluate(x_test, y_test)\n",
    "\n",
    "print('x_test / loss      : {:5.4f}'.format(score[0]))\n",
    "print('x_test / mae       : {:5.4f}'.format(score[1]))\n",
    "print('x_test / mse       : {:5.4f}'.format(score[2]))"
   ]
  },
  {
   "cell_type": "markdown",
   "id": "907be130",
   "metadata": {},
   "source": [
    "Display a summary of the history of DNN regression."
   ]
  },
  {
   "cell_type": "code",
   "execution_count": 29,
   "id": "90cff29b",
   "metadata": {},
   "outputs": [],
   "source": [
    "df=pd.DataFrame(data=history.history)\n",
    "#display(df)\n",
    "# This data can be used to plot the convergence curves over the learning epochs \n",
    "# for various train/test metrics."
   ]
  },
  {
   "cell_type": "markdown",
   "id": "08659682",
   "metadata": {},
   "source": [
    "Make a prediction."
   ]
  },
  {
   "cell_type": "code",
   "execution_count": 30,
   "id": "d1fa9395",
   "metadata": {},
   "outputs": [],
   "source": [
    "# ---- Pick n entries from our test set\n",
    "n = 200\n",
    "ii = np.random.randint(1,len(x_test),n)\n",
    "x_sample = x_test[ii]\n",
    "y_sample = y_test[ii]"
   ]
  },
  {
   "cell_type": "code",
   "execution_count": 31,
   "id": "aaadd379",
   "metadata": {},
   "outputs": [
    {
     "name": "stdout",
     "output_type": "stream",
     "text": [
      "7/7 [==============================] - 0s 1ms/step\n"
     ]
    }
   ],
   "source": [
    "y_pred = model.predict( x_sample )"
   ]
  },
  {
   "cell_type": "code",
   "execution_count": 32,
   "id": "84fbf47f",
   "metadata": {},
   "outputs": [
    {
     "name": "stdout",
     "output_type": "stream",
     "text": [
      "Wine    Prediction   Real   Delta\n",
      "000        4.97       6      +1.03 \n",
      "001        5.93       7      +1.07 \n",
      "002        5.24       6      +0.76 \n",
      "003        5.97       6      +0.03 \n",
      "004        4.85       5      +0.15 \n",
      "005        6.17       6      -0.17 \n",
      "006        5.18       4      -1.18 \n",
      "007        5.24       5      -0.24 \n",
      "008        6.25       5      -1.25 \n",
      "009        6.17       6      -0.17 \n",
      "010        6.05       4      -2.05 \n",
      "011        5.42       5      -0.42 \n",
      "012        6.60       7      +0.40 \n",
      "013        6.75       7      +0.25 \n",
      "014        4.98       6      +1.02 \n",
      "015        5.59       6      +0.41 \n",
      "016        5.73       6      +0.27 \n",
      "017        6.59       6      -0.59 \n",
      "018        5.78       6      +0.22 \n",
      "019        6.55       6      -0.55 \n",
      "020        5.43       5      -0.43 \n",
      "021        5.24       5      -0.24 \n",
      "022        5.74       6      +0.26 \n",
      "023        4.59       5      +0.41 \n",
      "024        5.39       5      -0.39 \n",
      "025        5.05       4      -1.05 \n",
      "026        6.23       6      -0.23 \n",
      "027        5.45       6      +0.55 \n",
      "028        5.33       7      +1.67 \n",
      "029        6.11       6      -0.11 \n",
      "030        6.05       4      -2.05 \n",
      "031        5.29       6      +0.71 \n",
      "032        5.63       6      +0.37 \n",
      "033        4.87       6      +1.13 \n",
      "034        4.97       6      +1.03 \n",
      "035        5.32       5      -0.32 \n",
      "036        5.90       6      +0.10 \n",
      "037        6.42       7      +0.58 \n",
      "038        5.16       4      -1.16 \n",
      "039        5.17       5      -0.17 \n",
      "040        5.15       4      -1.15 \n",
      "041        5.42       6      +0.58 \n",
      "042        5.29       6      +0.71 \n",
      "043        5.52       5      -0.52 \n",
      "044        5.66       5      -0.66 \n",
      "045        5.29       5      -0.29 \n",
      "046        5.31       6      +0.69 \n",
      "047        5.13       5      -0.13 \n",
      "048        6.51       6      -0.51 \n",
      "049        5.61       6      +0.39 \n",
      "050        6.59       6      -0.59 \n",
      "051        5.72       6      +0.28 \n",
      "052        5.43       5      -0.43 \n",
      "053        4.67       5      +0.33 \n",
      "054        5.14       5      -0.14 \n",
      "055        5.05       4      -1.05 \n",
      "056        6.67       7      +0.33 \n",
      "057        5.30       5      -0.30 \n",
      "058        5.76       6      +0.24 \n",
      "059        5.40       5      -0.40 \n",
      "060        5.37       6      +0.63 \n",
      "061        6.24       6      -0.24 \n",
      "062        6.03       6      -0.03 \n",
      "063        5.14       5      -0.14 \n",
      "064        5.72       7      +1.28 \n",
      "065        6.61       6      -0.61 \n",
      "066        4.85       5      +0.15 \n",
      "067        5.86       6      +0.14 \n",
      "068        5.93       7      +1.07 \n",
      "069        5.08       5      -0.08 \n",
      "070        6.00       5      -1.00 \n",
      "071        5.43       6      +0.57 \n",
      "072        6.46       6      -0.46 \n",
      "073        5.55       5      -0.55 \n",
      "074        6.24       6      -0.24 \n",
      "075        5.63       6      +0.37 \n",
      "076        5.86       6      +0.14 \n",
      "077        6.95       7      +0.05 \n",
      "078        6.59       8      +1.41 \n",
      "079        5.81       7      +1.19 \n",
      "080        5.62       6      +0.38 \n",
      "081        4.28       3      -1.28 \n",
      "082        6.15       6      -0.15 \n",
      "083        5.14       5      -0.14 \n",
      "084        5.06       5      -0.06 \n",
      "085        5.21       6      +0.79 \n",
      "086        5.15       5      -0.15 \n",
      "087        6.18       8      +1.82 \n",
      "088        5.27       6      +0.73 \n",
      "089        4.97       6      +1.03 \n",
      "090        5.56       5      -0.56 \n",
      "091        5.37       5      -0.37 \n",
      "092        4.73       5      +0.27 \n",
      "093        4.85       5      +0.15 \n",
      "094        5.62       6      +0.38 \n",
      "095        4.98       5      +0.02 \n",
      "096        5.46       5      -0.46 \n",
      "097        6.27       4      -2.27 \n",
      "098        5.66       5      -0.66 \n",
      "099        5.28       5      -0.28 \n",
      "100        5.59       6      +0.41 \n",
      "101        6.95       7      +0.05 \n",
      "102        4.75       6      +1.25 \n",
      "103        5.84       7      +1.16 \n",
      "104        6.22       6      -0.22 \n",
      "105        5.46       5      -0.46 \n",
      "106        4.99       5      +0.01 \n",
      "107        5.29       6      +0.71 \n",
      "108        6.60       7      +0.40 \n",
      "109        6.51       7      +0.49 \n",
      "110        5.13       5      -0.13 \n",
      "111        5.03       5      -0.03 \n",
      "112        5.20       5      -0.20 \n",
      "113        4.93       6      +1.07 \n",
      "114        6.22       8      +1.78 \n",
      "115        5.62       6      +0.38 \n",
      "116        5.14       5      -0.14 \n",
      "117        5.72       7      +1.28 \n",
      "118        4.46       4      -0.46 \n",
      "119        5.13       5      -0.13 \n",
      "120        5.47       5      -0.47 \n",
      "121        5.56       5      -0.56 \n",
      "122        6.18       8      +1.82 \n",
      "123        5.72       6      +0.28 \n",
      "124        4.96       4      -0.96 \n",
      "125        5.04       5      -0.04 \n",
      "126        5.73       6      +0.27 \n",
      "127        5.40       5      -0.40 \n",
      "128        4.56       5      +0.44 \n",
      "129        5.99       6      +0.01 \n",
      "130        6.60       7      +0.40 \n",
      "131        5.14       5      -0.14 \n",
      "132        5.15       6      +0.85 \n",
      "133        5.55       5      -0.55 \n",
      "134        5.79       4      -1.79 \n",
      "135        6.00       5      -1.00 \n",
      "136        4.67       5      +0.33 \n",
      "137        5.18       6      +0.82 \n",
      "138        5.28       6      +0.72 \n",
      "139        6.57       6      -0.57 \n",
      "140        5.29       5      -0.29 \n",
      "141        5.20       5      -0.20 \n",
      "142        6.61       8      +1.39 \n",
      "143        5.29       6      +0.71 \n",
      "144        5.71       6      +0.29 \n",
      "145        5.78       4      -1.78 \n",
      "146        5.14       4      -1.14 \n",
      "147        4.56       5      +0.44 \n",
      "148        5.24       5      -0.24 \n",
      "149        6.98       7      +0.02 \n",
      "150        4.46       4      -0.46 \n",
      "151        4.86       5      +0.14 \n",
      "152        5.15       4      -1.15 \n",
      "153        5.97       6      +0.03 \n",
      "154        5.30       5      -0.30 \n",
      "155        5.30       5      -0.30 \n",
      "156        4.46       4      -0.46 \n",
      "157        5.72       5      -0.72 \n",
      "158        5.03       5      -0.03 \n",
      "159        5.42       5      -0.42 \n",
      "160        5.15       5      -0.15 \n",
      "161        5.77       7      +1.23 \n",
      "162        5.61       7      +1.39 \n",
      "163        5.91       7      +1.09 \n",
      "164        4.73       5      +0.27 \n",
      "165        5.72       6      +0.28 \n",
      "166        6.60       7      +0.40 \n",
      "167        5.43       5      -0.43 \n",
      "168        5.19       6      +0.81 \n",
      "169        5.87       6      +0.13 \n",
      "170        5.62       6      +0.38 \n",
      "171        6.03       6      -0.03 \n",
      "172        5.45       5      -0.45 \n",
      "173        6.12       6      -0.12 \n",
      "174        5.38       6      +0.62 \n",
      "175        6.69       7      +0.31 \n",
      "176        6.21       5      -1.21 \n",
      "177        5.72       5      -0.72 \n",
      "178        5.56       5      -0.56 \n",
      "179        5.33       5      -0.33 \n",
      "180        5.37       6      +0.63 \n",
      "181        5.27       6      +0.73 \n",
      "182        6.00       5      -1.00 \n",
      "183        4.75       6      +1.25 \n",
      "184        5.19       6      +0.81 \n",
      "185        5.71       4      -1.71 \n",
      "186        5.42       6      +0.58 \n",
      "187        5.76       6      +0.24 \n",
      "188        5.90       6      +0.10 \n",
      "189        5.38       6      +0.62 \n",
      "190        5.61       6      +0.39 \n",
      "191        6.17       6      -0.17 \n",
      "192        5.06       5      -0.06 \n",
      "193        5.81       6      +0.19 \n",
      "194        5.29       6      +0.71 \n",
      "195        5.22       5      -0.22 \n",
      "196        6.34       6      -0.34 \n",
      "197        6.61       6      -0.61 \n",
      "198        5.99       6      +0.01 \n",
      "199        6.09       5      -1.09 \n"
     ]
    }
   ],
   "source": [
    "# ---- Show it\n",
    "print('Wine    Prediction   Real   Delta')\n",
    "for i in range(n):\n",
    "    pred   = y_pred[i][0]\n",
    "    real   = y_sample[i]\n",
    "    delta  = real-pred\n",
    "    print(f'{i:03d}        {pred:.2f}       {real}      {delta:+.2f} ')"
   ]
  },
  {
   "cell_type": "markdown",
   "id": "5ecbb873",
   "metadata": {},
   "source": [
    "**Exercise** \n",
    "\n",
    "- Repeat the same process for the dataset 'winequality-white.csv'. \n",
    "- Can you suggest modifications to the Neural Network model that can improve the current test mse?\n",
    "\n",
    "- Re-write the wine prediction quality algorithm using pytorch instead of keras, and reproduce the same results."
   ]
  },
  {
   "cell_type": "code",
   "execution_count": null,
   "id": "243f94e2",
   "metadata": {},
   "outputs": [],
   "source": []
  }
 ],
 "metadata": {
  "kernelspec": {
   "display_name": "Python 3 (ipykernel)",
   "language": "python",
   "name": "python3"
  },
  "language_info": {
   "codemirror_mode": {
    "name": "ipython",
    "version": 3
   },
   "file_extension": ".py",
   "mimetype": "text/x-python",
   "name": "python",
   "nbconvert_exporter": "python",
   "pygments_lexer": "ipython3",
   "version": "3.9.13"
  }
 },
 "nbformat": 4,
 "nbformat_minor": 5
}
