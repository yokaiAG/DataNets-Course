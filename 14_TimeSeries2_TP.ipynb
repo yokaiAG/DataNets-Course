{
 "cells": [
  {
   "cell_type": "markdown",
   "metadata": {},
   "source": [
    "# Lab Time Series (Students version)\n",
    " \n",
    "\n",
    "We can use the following libraries:"
   ]
  },
  {
   "cell_type": "code",
   "execution_count": 2,
   "metadata": {},
   "outputs": [],
   "source": [
    "import random # standard random generation tools library \n",
    "import math # standard math tools library\n",
    "import matplotlib.pyplot as plt # plotting library\n",
    "import numpy as np # numerical computation library\n",
    "import pandas as pd # data analysis library\n",
    "\n",
    "from statsmodels.graphics.tsaplots import plot_acf # acf plotting function\n",
    "from scipy.optimize import curve_fit # curve fitting function"
   ]
  },
  {
   "cell_type": "code",
   "execution_count": 3,
   "metadata": {},
   "outputs": [
    {
     "name": "stdout",
     "output_type": "stream",
     "text": [
      "3.8.10 (default, Nov 26 2021, 20:14:08) \n",
      "[GCC 9.3.0]\n"
     ]
    }
   ],
   "source": [
    "import sys # info about the python version used\n",
    "print(sys.version)"
   ]
  },
  {
   "cell_type": "markdown",
   "metadata": {},
   "source": [
    "First download the file fictional_population.csv\n",
    "\n",
    "It contains a time series $ x(t)$  with the population of a fictional city every year from 1921 to 2021. For the sake of simplicity, the column \"date\" represents the number of years since the beginning of the data acquisition (so 1 is 1921, 2 is 1922, etc)."
   ]
  },
  {
   "cell_type": "markdown",
   "metadata": {},
   "source": [
    "## Exercise 1: visualizing and isolating the trend"
   ]
  },
  {
   "cell_type": "markdown",
   "metadata": {},
   "source": [
    "### Question 1\n",
    "\n",
    "- After importing data (pandas dataframe is recommended), plot the time series."
   ]
  },
  {
   "cell_type": "code",
   "execution_count": null,
   "metadata": {},
   "outputs": [],
   "source": []
  },
  {
   "cell_type": "markdown",
   "metadata": {},
   "source": [
    "### Question 2\n",
    "\n",
    "We choose to model the trend of the first part of the time series with a degree 2 polynomial:\n",
    "\n",
    "$$ \\hat{m}(t) = a + b.t + c.t^2 $$\n",
    "\n",
    "- do a least square regression to find the values of coefficients $a$, $b$ and $c$\n",
    "\n",
    "- plot the data and the model on a same picture"
   ]
  },
  {
   "cell_type": "code",
   "execution_count": null,
   "metadata": {},
   "outputs": [],
   "source": []
  },
  {
   "cell_type": "markdown",
   "metadata": {},
   "source": [
    "## Exercise 2 : model of the residuals"
   ]
  },
  {
   "cell_type": "markdown",
   "metadata": {},
   "source": [
    "### Question 3\n",
    "\n",
    "Here the residual time series is defined as $r(t)$ such that\n",
    "\n",
    "$$ x(t) = \\hat{m}(t) + r(t) $$\n",
    "\n",
    "- plot the residual time series $r(t)$\n",
    "\n",
    "- plot its ACF (function plot_acf can be used)\n",
    "\n",
    "- from a visual examination of the residuals and the ACF, do you think the process is IID? (justify in one sentence)\n"
   ]
  },
  {
   "cell_type": "code",
   "execution_count": null,
   "metadata": {},
   "outputs": [],
   "source": []
  },
  {
   "cell_type": "markdown",
   "metadata": {},
   "source": [
    "### Question 4\n",
    "\n",
    "We propose to make an AR(1) model of the residuals, denoted $ \\hat{r}(t) $, that is to say\n",
    "\n",
    "$$   \\hat{r}(t)  =  \\phi \\hat{r}(t-1) + w(t) $$\n",
    "\n",
    "where $w(t)$ is white noise.\n",
    "\n",
    "To find the value of the parameter $ \\phi $, do as follows: \n",
    "\n",
    "- plot $\\hat{r}(t)$ as a function of  $\\hat{r}(t-1)$ and check visually that a linear model is not absurd\n",
    "\n",
    "- do a least square regression to compute the most probable value of $\\phi$"
   ]
  },
  {
   "cell_type": "code",
   "execution_count": null,
   "metadata": {},
   "outputs": [],
   "source": []
  },
  {
   "cell_type": "markdown",
   "metadata": {},
   "source": [
    "### Question 5\n",
    "\n"
   ]
  },
  {
   "cell_type": "markdown",
   "metadata": {},
   "source": [
    "Now the complete model of the time series is\n",
    "\n",
    "$$ y(t) = \\hat{m}(t) + \\hat{r}(t) + w(t) $$\n",
    "\n",
    "Note also that\n",
    "\n",
    "$$ w(t) = \\hat{r}(t) - \\phi.\\hat{r}(t-1) $$\n",
    "\n",
    "- plot the new residual time series $w(t)$ (for $t>1$)\n",
    "\n",
    "- plot its ACF (function plot_acf can be used)\n",
    "\n",
    "- from a visual examination of the residuals and the ACF, do you think the process is IID? (justify in one sentence)"
   ]
  },
  {
   "cell_type": "code",
   "execution_count": null,
   "metadata": {},
   "outputs": [],
   "source": []
  },
  {
   "cell_type": "markdown",
   "metadata": {},
   "source": [
    "## Exercise 3: IID tests on residual time series"
   ]
  },
  {
   "cell_type": "markdown",
   "metadata": {},
   "source": [
    "In this section, we test quantitatively if the residual time series can be considered as IID or not. For this purpose, we use two tests: the difference-sign test and the sample ACF test."
   ]
  },
  {
   "cell_type": "markdown",
   "metadata": {},
   "source": [
    "### Question 6: difference-sign test\n",
    "\n",
    "The idea of this test is the following: if a time series $x(t)$ is IID, then it is possible the number of times when $x(t+1) > x(t)$ and see if it is consistent with the observations.\n",
    "\n",
    "#### Principle\n",
    "\n",
    "The idea is that for an IID time series, the probability for $x(t+1) > x(t)$ is 1/2, so the expected value $ \\mu _S $ of the number of such observations over the whole time series is\n",
    "\n",
    "$$ \\mu _S = \\frac{n-1}{2} $$\n",
    "\n",
    "By an analogous reasoning, we can compute that the variance of the number of times $x(t+1) > x(t)$ over the time series, it is\n",
    "$$ \\sigma _S ^2 = \\frac{n+1}{12}$$\n",
    "\n",
    "#### Test\n",
    "\n",
    "Thus, we can test that the measured number of times $x(t+1) > x(t)$, denoted $n_S$ is consistent with a usual test on a normal distribution. Using $ \\alpha = 0.05 $, we reject the hypothesis that the time series is IID if\n",
    "\n",
    "$$ \\frac{|n_S - \\mu _S|}{\\sigma _S ^2 }  > \\Phi _{1- \\alpha/2} = 1.96 $$\n",
    "\n",
    "(c.f. course on hypothesis testing)\n",
    "\n",
    "- Test if the residual times $ \\hat{r}(t) $ and $ \\hat{w}(t) $ can be considered or not as IID according to this test."
   ]
  },
  {
   "cell_type": "code",
   "execution_count": null,
   "metadata": {},
   "outputs": [],
   "source": []
  },
  {
   "cell_type": "markdown",
   "metadata": {},
   "source": [
    "### Question 7: sample autocorrelation function test\n",
    "\n",
    "For this test, we admit that the sample autorrelation function of an IID time series of size $n$ is also approximately IID and follows a normal distribution with mean 0 and variance $1/n$.\n",
    "\n",
    "#### Test\n",
    "\n",
    "Consequently, we should have 95% of the ACF values falling in the interval $ \\left[ \\frac{-1.96}{\\sqrt{n}}  ;  \\frac{+1.96}{\\sqrt{n}} \\right] $.\n",
    "\n",
    "- Test graphically if the residual times $ \\hat{r}(t) $ and $ \\hat{w}(t) $ can be considered or not as IID according to this test, you can for instance add the corresponding boundaries on the ACF plot."
   ]
  },
  {
   "cell_type": "code",
   "execution_count": null,
   "metadata": {},
   "outputs": [],
   "source": []
  },
  {
   "cell_type": "markdown",
   "metadata": {},
   "source": [
    "#### Comment\n",
    "\n",
    "- What do you think about the sensibility of these two tests?"
   ]
  },
  {
   "cell_type": "code",
   "execution_count": null,
   "metadata": {},
   "outputs": [],
   "source": []
  }
 ],
 "metadata": {
  "kernelspec": {
   "display_name": "Python 3",
   "language": "python",
   "name": "python3"
  },
  "language_info": {
   "codemirror_mode": {
    "name": "ipython",
    "version": 3
   },
   "file_extension": ".py",
   "mimetype": "text/x-python",
   "name": "python",
   "nbconvert_exporter": "python",
   "pygments_lexer": "ipython3",
   "version": "3.8.10"
  }
 },
 "nbformat": 4,
 "nbformat_minor": 2
}
