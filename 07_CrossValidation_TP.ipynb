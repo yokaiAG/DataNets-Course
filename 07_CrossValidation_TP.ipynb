{
 "cells": [
  {
   "cell_type": "markdown",
   "metadata": {},
   "source": [
    "# 07. TP Mode Selection and Cross Validation"
   ]
  },
  {
   "cell_type": "markdown",
   "metadata": {},
   "source": [
    "#### enseignant: Anastasios Giovanidis 2021 - 2022\n",
    "#### date: 20 Octobre 2021 and 27 Octobre 2021"
   ]
  },
  {
   "cell_type": "markdown",
   "metadata": {},
   "source": [
    "#### student name or binome:"
   ]
  },
  {
   "cell_type": "markdown",
   "metadata": {},
   "source": [
    "This is the TP related to mode selection and cross-validation. We will focus here on regression only, but the techniques can be generalised for classification.\n",
    "We will need to import the following libraries."
   ]
  },
  {
   "cell_type": "code",
   "execution_count": 1,
   "metadata": {},
   "outputs": [],
   "source": [
    "import matplotlib.pyplot as plt\n",
    "import numpy as np\n",
    "import pandas as pd\n",
    "import math\n",
    "import random"
   ]
  },
  {
   "cell_type": "code",
   "execution_count": 12,
   "metadata": {},
   "outputs": [],
   "source": [
    "from sklearn import datasets, linear_model\n",
    "from sklearn.model_selection import train_test_split, LeaveOneOut, KFold, cross_validate\n",
    "from sklearn.utils import resample\n",
    "from sklearn.metrics import mean_squared_error, r2_score"
   ]
  },
  {
   "cell_type": "markdown",
   "metadata": {},
   "source": [
    "## Exercise 1  (Polynomial Regression)"
   ]
  },
  {
   "cell_type": "markdown",
   "metadata": {},
   "source": [
    "We will now work on problems of polynomial regression. As a means of example, we will try to fit data sampled from the following curve:\n",
    "\n",
    "$y = 4 + 2x + 0.5x^2 - 0.07x^3 + \\epsilon$.\n",
    "\n",
    "First create synthetic data for $(x_1,x_2,x_3,y,Er)$. The regression plane (>2 dimensions) is given by the following expression, for $\\ell$ unknown features:\n",
    "\n",
    "$\\hat{y} = \\hat{\\beta}_0 + \\hat{\\beta}_1x + \\hat{\\beta}_2x^2 +\\ldots + \\hat{\\beta}_{\\ell}x^{\\ell}$.\n",
    "\n",
    "**We will use again a multi-linear regression model, to estimate the unknowns.** \n",
    "We propose to use regression models with different polynomial degree, because in reality we do not know which is the appropriate model. "
   ]
  },
  {
   "cell_type": "markdown",
   "metadata": {},
   "source": [
    "**Question:**\n",
    "* We start with a linear model of degree $\\ell=3$. Split the total dataset of $n=200$ in a train set and a test set (80%-20%). Plot the least-squares curve and output the $R^2$ value. (use $sigmae = 5$, $xl=0, xh = 10$, $n=200$)\n",
    "\n",
    "* Repeat the process for $\\ell = 1, 2, 3, 6, 9, 16$. \n",
    "\n",
    "(a) plot the $MSE$ value versus $\\ell$ for the Train data. \n",
    "(b) plot the $MSE$ value versu2 $\\ell$ for the Test data. What do you observe?\n",
    "\n",
    "(c) plot the $R^2$ value versus $\\ell$ for the Train data. \n",
    "(d) plot the $R^2$ value versus $\\ell$ for the Test data. What do you observe?"
   ]
  },
  {
   "cell_type": "markdown",
   "metadata": {},
   "source": [
    "Use sklearn commands: \n",
    "\n",
    "train_test_split, \n",
    "linear_model.LinearRegression(), \n",
    "mean_squared_error, \n",
    "r2_score"
   ]
  },
  {
   "cell_type": "markdown",
   "metadata": {},
   "source": [
    "**Build synthetic data**"
   ]
  },
  {
   "cell_type": "code",
   "execution_count": 13,
   "metadata": {},
   "outputs": [],
   "source": [
    "n = 200\n",
    "b0 = 4\n",
    "b1 = np.array([2,0.5,-0.07])\n",
    "mue, sigmae = 0, 5\n",
    "xl, xh = 0, 10\n",
    "np.random.seed(199)\n",
    "Er = np.random.normal(mue, sigmae, n)\n",
    "np.random.seed(199)\n",
    "x0 = np.random.uniform(xl,xh,n)\n",
    "x = np.array([x0])\n",
    "x = np.append(x,np.array([x0**2]),axis=0)\n",
    "x = np.append(x,np.array([x0**3]),axis=0)\n",
    "#\n",
    "y = b0 + b1[0]*x[0]+ b1[1]*x[1]+ b1[2]*x[2]+Er"
   ]
  },
  {
   "cell_type": "markdown",
   "metadata": {},
   "source": [
    "Here is the datasheet that is given to you: \n",
    "**From this point on you don't know how this was produced, you just have the data on x and y and are asked to do a regression.**"
   ]
  },
  {
   "cell_type": "code",
   "execution_count": 14,
   "metadata": {},
   "outputs": [
    {
     "data": {
      "text/html": [
       "<div>\n",
       "<style scoped>\n",
       "    .dataframe tbody tr th:only-of-type {\n",
       "        vertical-align: middle;\n",
       "    }\n",
       "\n",
       "    .dataframe tbody tr th {\n",
       "        vertical-align: top;\n",
       "    }\n",
       "\n",
       "    .dataframe thead th {\n",
       "        text-align: right;\n",
       "    }\n",
       "</style>\n",
       "<table border=\"1\" class=\"dataframe\">\n",
       "  <thead>\n",
       "    <tr style=\"text-align: right;\">\n",
       "      <th></th>\n",
       "      <th>x</th>\n",
       "      <th>y</th>\n",
       "    </tr>\n",
       "  </thead>\n",
       "  <tbody>\n",
       "    <tr>\n",
       "      <th>0</th>\n",
       "      <td>6.547917</td>\n",
       "      <td>24.421765</td>\n",
       "    </tr>\n",
       "    <tr>\n",
       "      <th>1</th>\n",
       "      <td>9.820393</td>\n",
       "      <td>3.953867</td>\n",
       "    </tr>\n",
       "    <tr>\n",
       "      <th>2</th>\n",
       "      <td>3.999047</td>\n",
       "      <td>26.961203</td>\n",
       "    </tr>\n",
       "    <tr>\n",
       "      <th>3</th>\n",
       "      <td>8.441526</td>\n",
       "      <td>5.177844</td>\n",
       "    </tr>\n",
       "    <tr>\n",
       "      <th>4</th>\n",
       "      <td>4.638424</td>\n",
       "      <td>9.378242</td>\n",
       "    </tr>\n",
       "    <tr>\n",
       "      <th>...</th>\n",
       "      <td>...</td>\n",
       "      <td>...</td>\n",
       "    </tr>\n",
       "    <tr>\n",
       "      <th>195</th>\n",
       "      <td>3.032599</td>\n",
       "      <td>8.649734</td>\n",
       "    </tr>\n",
       "    <tr>\n",
       "      <th>196</th>\n",
       "      <td>6.540144</td>\n",
       "      <td>19.545533</td>\n",
       "    </tr>\n",
       "    <tr>\n",
       "      <th>197</th>\n",
       "      <td>6.284375</td>\n",
       "      <td>20.354621</td>\n",
       "    </tr>\n",
       "    <tr>\n",
       "      <th>198</th>\n",
       "      <td>5.722965</td>\n",
       "      <td>23.608383</td>\n",
       "    </tr>\n",
       "    <tr>\n",
       "      <th>199</th>\n",
       "      <td>8.713933</td>\n",
       "      <td>12.739589</td>\n",
       "    </tr>\n",
       "  </tbody>\n",
       "</table>\n",
       "<p>200 rows × 2 columns</p>\n",
       "</div>"
      ],
      "text/plain": [
       "            x          y\n",
       "0    6.547917  24.421765\n",
       "1    9.820393   3.953867\n",
       "2    3.999047  26.961203\n",
       "3    8.441526   5.177844\n",
       "4    4.638424   9.378242\n",
       "..        ...        ...\n",
       "195  3.032599   8.649734\n",
       "196  6.540144  19.545533\n",
       "197  6.284375  20.354621\n",
       "198  5.722965  23.608383\n",
       "199  8.713933  12.739589\n",
       "\n",
       "[200 rows x 2 columns]"
      ]
     },
     "execution_count": 14,
     "metadata": {},
     "output_type": "execute_result"
    }
   ],
   "source": [
    "dataSynth = {'x': x[0],'y': y}\n",
    "df = pd.DataFrame(data=dataSynth)\n",
    "df"
   ]
  },
  {
   "cell_type": "markdown",
   "metadata": {},
   "source": [
    "**Solution:**"
   ]
  },
  {
   "cell_type": "code",
   "execution_count": null,
   "metadata": {},
   "outputs": [],
   "source": []
  },
  {
   "cell_type": "markdown",
   "metadata": {},
   "source": [
    "## Exercise 2 - Cross Validation"
   ]
  },
  {
   "cell_type": "markdown",
   "metadata": {},
   "source": [
    "Use the following toy dataset:\n",
    "\n",
    "$D_6 = \\left\\{(1,3),\\ (2,4),\\ (3,8),\\ (4,9), \\ (5,12),\\ (7,14) \\right\\}$.\n",
    "\n",
    "**Question A:** Find all produced train-test splits when applying\n",
    "\n",
    "- (a) LOOCV.  Command: LeaveOneOut()\n",
    "\n",
    "- (b) 3-fold CV method. Command: KFold(n_splits)\n",
    "\n",
    "- (c) Bootstrap method (with 5 bootstraps). Command Bootstrap\n",
    "\n",
    "**Question B:** Perform linear regression and find the average $MSE_{test}$ for the data sets\n",
    "\n",
    "- (d) using 2-fold CV method. Command: cross_validate"
   ]
  },
  {
   "cell_type": "markdown",
   "metadata": {},
   "source": [
    "**Part II:** Apply the same method to the data set below for the **TV-sales** pair:\n",
    "\n",
    "The dataset \"Advertising.csv\" can be downloaded from: http://faculty.marshall.usc.edu/gareth-james/ISL/data.html"
   ]
  },
  {
   "cell_type": "code",
   "execution_count": 16,
   "metadata": {},
   "outputs": [],
   "source": [
    "directory = #your directory\n",
    "prefix = \"Advertising.csv\"\n",
    "filename1 = directory+prefix\n",
    "dataAd = np.loadtxt(filename1, delimiter=\",\",skiprows=1,usecols=[1,2,3,4])"
   ]
  },
  {
   "cell_type": "code",
   "execution_count": 7,
   "metadata": {},
   "outputs": [],
   "source": [
    "# pandas\n",
    "pdAd = pd.DataFrame(dataAd, columns=[\"TV\",\"radio\",\"newspaper\",\"sales\"])"
   ]
  },
  {
   "cell_type": "code",
   "execution_count": 8,
   "metadata": {},
   "outputs": [],
   "source": [
    "TV = pdAd.iloc[:,0].values\n",
    "#radio = pdAd.iloc[:,1].values\n",
    "#news = pdAd.iloc[:,2].values\n",
    "sales = pdAd.iloc[:,3].values"
   ]
  },
  {
   "cell_type": "markdown",
   "metadata": {},
   "source": [
    "**Answer:**"
   ]
  },
  {
   "cell_type": "code",
   "execution_count": null,
   "metadata": {},
   "outputs": [],
   "source": []
  }
 ],
 "metadata": {
  "kernelspec": {
   "display_name": "Python 3",
   "language": "python",
   "name": "python3"
  },
  "language_info": {
   "codemirror_mode": {
    "name": "ipython",
    "version": 3
   },
   "file_extension": ".py",
   "mimetype": "text/x-python",
   "name": "python",
   "nbconvert_exporter": "python",
   "pygments_lexer": "ipython3",
   "version": "3.6.10"
  }
 },
 "nbformat": 4,
 "nbformat_minor": 2
}
