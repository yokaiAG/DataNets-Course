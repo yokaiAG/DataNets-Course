{
 "cells": [
  {
   "cell_type": "markdown",
   "metadata": {},
   "source": [
    "# TP 02. Estimation (Classical)"
   ]
  },
  {
   "cell_type": "markdown",
   "metadata": {},
   "source": [
    "#### enseignant: Anastasios Giovanidis 2021 - 2022\n",
    "#### date: 22 September 2021"
   ]
  },
  {
   "cell_type": "markdown",
   "metadata": {},
   "source": [
    "#### student name or binome:"
   ]
  },
  {
   "cell_type": "markdown",
   "metadata": {},
   "source": [
    "This is the TP related to 02. Frequentist estimation. \n",
    "\n",
    "TODO Exercises 01 and 04. (Bonus: 02 and 03)\n",
    "\n",
    "We need to import the following libraries:"
   ]
  },
  {
   "cell_type": "code",
   "execution_count": 1,
   "metadata": {},
   "outputs": [],
   "source": [
    "import matplotlib.pyplot as plt\n",
    "import numpy as np\n",
    "from sklearn import preprocessing\n",
    "import math"
   ]
  },
  {
   "cell_type": "markdown",
   "metadata": {},
   "source": [
    "## Exercise 1 (Sample Mean, Standard Error)"
   ]
  },
  {
   "cell_type": "markdown",
   "metadata": {},
   "source": [
    "**Multimedia file-size:** We investigate the distribution of sizes in [bytes] of multimedia files found online. We have collected a random sample of $N$ files. Suppose that the sample is i.i.d. drawn from:\n",
    "\n",
    "- a Uniform distribution $[0,\\theta]$. (for $E[X]=10^9$, choose $\\theta=2 \\cdot10^{9}$)\n",
    "\n",
    "- a log-Normal $logN(\\mu,\\sigma)$ distribution. (for $E[X]=10^9$, choose $\\mu=5\\ln(10)$, $\\sigma=\\sqrt{8\\ln(10)}$)\n",
    "\n",
    "- an Exponential($\\lambda$) distribution. (for $E[X]=10^9$, choose $\\lambda=10^{-9}$, or $\\beta=\\lambda^{-1}$ for Python)\n",
    "\n",
    "(A) For each case, calculate the Sample Mean, and Sample Standard Deviation. Use sample size $N=10^3$ and $N=10^8$.\n",
    "\n",
    "What do you observe about the ratio (Sample Standard Deviation) / (Sample Mean)?\n",
    "\n",
    "(B) For all distributions show with a histogram of the normalised values that the CLT holds for the Sample Mean variable."
   ]
  },
  {
   "cell_type": "markdown",
   "metadata": {},
   "source": [
    "**Solution A**\n",
    "\n",
    "Hint: use np.random.uniform, np.random.exponential, np.random.lognormal, mean(), var() and read the python documentation for syntax and parameters."
   ]
  },
  {
   "cell_type": "markdown",
   "metadata": {},
   "source": [
    "**Solution B**\n",
    "Hint: use preprocessing.scale to normalise the sample set and plt.hist for the histogram. Read python documentation."
   ]
  },
  {
   "cell_type": "markdown",
   "metadata": {},
   "source": [
    "## Exercise 2 (Bias) - bonus*"
   ]
  },
  {
   "cell_type": "markdown",
   "metadata": {},
   "source": [
    "Consider a network of sensors that measures the temperature in an area. We collect $N$ such measurements ($N=10^3$, or  $10^7$):\n",
    "\n",
    "- Each measurement $X_i$ is drawn i.i.d from a distribution $F_X(x)$ that we do not know in advance, but let us suppose it is Exponential with mean $20^oC$.\n",
    "- Each measurement is corrupted by random noise due to measurement imprecision. This is $W_i$ and is drawn i.i.d from the Normal distribution $N(0,\\sigma_W^2)$. Choose $\\sigma_W = \\left\\{1,or\\ 50\\right\\}$.\n",
    "\n",
    "The collected set of measurements is $(Y_1,\\ldots,Y_N)$, where:\n",
    "\n",
    "$Y_i = X_i+ W_i$\n",
    "\n",
    "\n",
    "We would like to use the available data set to estimate the real mean and variance, by using the Sample Mean, and Sample Variance, both of which are unbiased for $(X_1,\\ldots,X_N)$.\n",
    "\n",
    "Some extra theory (related) questions:\n",
    "\n",
    "Q1: What is the true value of Standard Deviation for $X$ that we want to estimate?\n",
    "\n",
    "Q2: Is the Sample Mean of $(Y_1,\\ldots,Y_N)$ unbiased?\n",
    "\n",
    "Q3: Is the Sample Variance of $(Y_1,\\ldots,Y_N)$ unbiased? \n",
    "\n",
    "Explain your answers."
   ]
  },
  {
   "cell_type": "markdown",
   "metadata": {},
   "source": [
    "**Solution**"
   ]
  },
  {
   "cell_type": "markdown",
   "metadata": {},
   "source": [
    "## Exercise 3 (Bias and MSE) - bonus*"
   ]
  },
  {
   "cell_type": "markdown",
   "metadata": {},
   "source": [
    "Consider again a random sample of size $N$. The entries correspond to multimedia file-sizes. We assume that entries are drawn i.i.d. from a Uniform distribution $[0,\\theta]$. (choose $\\theta=2 \\cdot10^{9}$).\n",
    "\n",
    "We define the estimator of $\\theta$ (upper bound) as\n",
    "\n",
    "$\\hat{\\Theta}_n = \\max\\left\\{X_1,\\ldots,X_n\\right\\}$.\n",
    "\n",
    "- Find the \"average\" bias of $\\hat{\\Theta}_n$ (i.e. to derive the average difference $\\hat{\\Theta}_n-\\theta$)\n",
    "\n",
    "- Find the \"average\" $MSE(\\hat{\\Theta}_n)$\n",
    "\n",
    "- Is $\\hat{\\Theta}_n$ a consistent estimator? \n",
    "\n",
    "Use $M=10000$ iterations and each data-set has N samples (use $N=100$, $N=10^3$ and $N=10^4$)."
   ]
  },
  {
   "cell_type": "markdown",
   "metadata": {},
   "source": [
    "**Solution**"
   ]
  },
  {
   "cell_type": "markdown",
   "metadata": {},
   "source": [
    "## Exercise 4 (MLE)"
   ]
  },
  {
   "cell_type": "markdown",
   "metadata": {},
   "source": [
    "Consider a random sample $(X_1,\\ldots,X_N)$ of size $N$ (choose $N=1000$). Assume that the samples are drawn i.i.d from:\n",
    "\n",
    "- a Binomial distribution $(m,\\theta)$. (for $E[X]=10$, choose $m=50, \\theta=0.2$)\n",
    "\n",
    "- a Normal $N(\\mu,\\sigma)$ distribution. (for $E[X]=10$, choose $\\mu=10$, $\\sigma=2$)\n",
    "\n",
    "- an Exponential($\\lambda$) distribution. (for $E[X]=10$, choose $\\lambda=0.1$, or $\\beta=\\lambda^{-1}$ for Python)\n",
    "\n",
    "Q1: Use the Maximum Likelihood (ML) Estimators from the classroom, to estimate:\n",
    "\n",
    "- $\\theta$ for the Binomial.\n",
    "\n",
    "- $(\\mu,\\sigma^2)$ for the Normal.\n",
    "\n",
    "- $\\lambda$ for the Exponential.\n",
    "\n",
    "Q2: Are these estimators assymptotically consistent? (choose $N=10$, $N=10^3$, $N=10^5$)\n",
    "\n",
    "Q3: Print the average estimator for the mean in each case. In which cases is the average estimator for the mean the same as the ML estimator?"
   ]
  },
  {
   "cell_type": "markdown",
   "metadata": {},
   "source": [
    "**Solution:**"
   ]
  },
  {
   "cell_type": "code",
   "execution_count": null,
   "metadata": {},
   "outputs": [],
   "source": []
  }
 ],
 "metadata": {
  "kernelspec": {
   "display_name": "Python 3",
   "language": "python",
   "name": "python3"
  },
  "language_info": {
   "codemirror_mode": {
    "name": "ipython",
    "version": 3
   },
   "file_extension": ".py",
   "mimetype": "text/x-python",
   "name": "python",
   "nbconvert_exporter": "python",
   "pygments_lexer": "ipython3",
   "version": "3.6.10"
  }
 },
 "nbformat": 4,
 "nbformat_minor": 2
}
